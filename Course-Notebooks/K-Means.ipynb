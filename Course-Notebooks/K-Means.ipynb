{
 "cells": [
  {
   "cell_type": "markdown",
   "metadata": {},
   "source": [
    "### Reference: <br>\n",
    "Data science basics<br>\n",
    "Doing Data Science<br>\n",
    "By: Cathy O'Neil; Rachel Schutt<br>\n",
    "Publisher: O'Reilly Media, Inc.<br>\n",
    "Pub. Date: October 24, 2013<br>\n",
    "Print ISBN-13: 978-1-4493-5865-5<br>\n",
    "Chapter 3 <br>\n",
    "http://proquest.safaribooksonline.com.proxy.lib.odu.edu/book/databases/9781449363871\n",
    "\n",
    "Python Data Science Handbook <br>\n",
    "Essential Tools for Working with Data <br>\n",
    "By Jake VanderPlas<br>\n",
    "Publisher: O'Reilly Media <br>\n",
    "Release Date: November 2016 <br>\n",
    "http://proquest.safaribooksonline.com.proxy.lib.odu.edu/book/programming/python/9781491912126 <br>\n",
    "K_means example discussed in the notebook is adapted from the code accompanied with this text: <br>\n",
    "\n",
    "https://jakevdp.github.io/PythonDataScienceHandbook/05.11-k-means.html"
   ]
  },
  {
   "cell_type": "markdown",
   "metadata": {},
   "source": [
    "### K-Means Clustering\n",
    "\n",
    "#### Unsupervised Learning\n",
    "In supervissed learning we build a model by sample data (training set), where we know beforehand what is the value for the outcome variable (for example, regression). In other words, we have labeled data for training. On the other hand, in the unsupervised learning we try to find patterns or grouping in un-labeled data.\n",
    "\n",
    "\"K-Means is an example of unsupervised learning technique, where the goal of the algorithm is to find grouping in un-labeled data\"\n",
    "\n",
    "#### Centroid for a set of d-dimensional points\n",
    "Example: Three 2-dimensional points   $(2,5), (1,7), (3, 9)$. The centroid for this set is: $((2+1+3)/3,  (5+7+9)/3) = (2, 7)$\n",
    "\n",
    "The outline of the algorithm for clustering d-dimensional points is given below.\n",
    "\n",
    "<ul>\n",
    "<li>Initially, randomly pick k centroids (or points that will be the center of your clusters) in d-space. \n",
    "<li> Then assign each data point to the closest centroid.\n",
    "<li> Update the centroids by taking averages of data points assigned to it.\n",
    "<li> Repeat the preceding two steps until the assignments don’t change, or change very little.\n",
    "</ul>\n",
    "\n"
   ]
  },
  {
   "cell_type": "code",
   "execution_count": 3,
   "metadata": {
    "collapsed": true
   },
   "outputs": [],
   "source": [
    "%matplotlib inline\n",
    "import matplotlib.pyplot as plt\n",
    "import seaborn as sns; sns.set()  # for plot styling\n",
    "import numpy as np"
   ]
  },
  {
   "attachments": {
    "image.png": {
     "image/png": "[encoded data removed]"
    }
   },
   "cell_type": "markdown",
   "metadata": {},
   "source": [
    "#### Assign each data point to the closest centroid\n",
    "\n",
    "Consider three points $x_0$, $x_1$, and $x_2$;  and two centroid $y_0$ and $y_1$.\n",
    "\n",
    "![image.png](attachment:image.png)\n",
    "\n",
    "\n",
    "If dist($x_0$,$y_0$) <  dist($x_0$,$y_1$)  assign $x_0$ a label $0$ to indicate it is assigned to $y_0$\n",
    "\n",
    "If dist($x_1$,$y_0$) <  dist($x_1$,$y_1$)  assign $x_1$ a label $0$ to indicate it is assigned to $y_0$\n",
    "\n",
    "If dist($x_2$,$y_1$) <  dist($x_2$,$y_0$)  assign $x_2$ a label $1$ to indicate it is assigned to $y_1$\n",
    "\n",
    "One naive way to do this computation is to set up a nested loop, where the outer loop is over the number of samples (x's), and in the inner loop is over the number of centroids (clusters).\n",
    "\n",
    "The main computation is to compute the Euclidean distance between a point with a centroid and keep track of the centroid with the minimum distance. \n",
    "\n",
    "Performing this computation by setting up nested loop can be very slow. As a general rule perform numpy array operation wherever possible. \n",
    "\n",
    "Now we look at an efficient way of doing this computation.\n"
   ]
  },
  {
   "cell_type": "code",
   "execution_count": 4,
   "metadata": {},
   "outputs": [],
   "source": [
    "# Generate 7 3-d samples\n",
    "X = np.random.randint(10, size=(7,3))"
   ]
  },
  {
   "cell_type": "code",
   "execution_count": 5,
   "metadata": {},
   "outputs": [],
   "source": [
    "# Generate 4 3-d samples (centroids)\n",
    "Y = np.random.randint(10, size=(4,3))"
   ]
  },
  {
   "cell_type": "markdown",
   "metadata": {},
   "source": [
    "First we compute a distance matrix of size $7 \\times 4$ where an entry $d_{ij}$ is the Euclidean distance between sample $x_i$ with centroid $y_j$.\n",
    "\n",
    "Note that Euclidean distance between $x_i = (x_i^0, x_i^1, x_i^2)$  with $y_j = (y_i^0, y_i^1, y_i^2)$ is given by:\n",
    "\n",
    "$d_{ij} = \\sqrt{(x_i - y_j)^2)} =  \\sqrt{(x_i^0 - y_j^0)^2 + (x_i^1 - y_j^1)^2 + (x_i^2 - y_j^2)^2  }$\n",
    "\n",
    "$d_{ij} = \\sqrt{(x_i^0)^2 + (x_i^1)^2 + (x_i^2)^2 + (y_j^0)^2 + (y_j^1)^2 + (y_j^2)^2 - 2(x_i^0y_j^0 + x_i^1y_j^1 + x_i^2y_j^2)}$ "
   ]
  },
  {
   "cell_type": "markdown",
   "metadata": {},
   "source": [
    "Exercise: Write the expression for every element of  the first row of the $d_{ij}$  matrix of size $7 times 4$:\n",
    "$d_{00} =  $ \n",
    "\n",
    "$d_{01} =  $\n",
    "\n",
    "$d_{02} =  $\n",
    "\n",
    "$d_{03} =  $\n",
    "\n",
    "Identify the compuation that can be reused in evaluating these terms."
   ]
  },
  {
   "cell_type": "code",
   "execution_count": 6,
   "metadata": {},
   "outputs": [
    {
     "name": "stdout",
     "output_type": "stream",
     "text": [
      "[[8 7 5]\n",
      " [8 2 7]\n",
      " [3 1 2]\n",
      " [8 6 0]\n",
      " [4 0 3]\n",
      " [6 8 2]\n",
      " [8 5 5]]\n"
     ]
    },
    {
     "data": {
      "text/plain": [
       "array([138, 117,  14, 100,  25, 104, 114])"
      ]
     },
     "execution_count": 6,
     "metadata": {},
     "output_type": "execute_result"
    }
   ],
   "source": [
    "print(X)\n",
    "x2 = np.sum(X**2, axis=1)\n",
    "x2"
   ]
  },
  {
   "cell_type": "code",
   "execution_count": 7,
   "metadata": {},
   "outputs": [
    {
     "data": {
      "text/plain": [
       "array([[138],\n",
       "       [117],\n",
       "       [ 14],\n",
       "       [100],\n",
       "       [ 25],\n",
       "       [104],\n",
       "       [114]])"
      ]
     },
     "execution_count": 7,
     "metadata": {},
     "output_type": "execute_result"
    }
   ],
   "source": [
    "x2 = np.sum(X**2, axis=1).reshape((7,1))\n",
    "x2"
   ]
  },
  {
   "cell_type": "code",
   "execution_count": 8,
   "metadata": {},
   "outputs": [
    {
     "name": "stdout",
     "output_type": "stream",
     "text": [
      "(1, 4)\n"
     ]
    }
   ],
   "source": [
    "y2 = np.sum(Y**2, axis=1).reshape((1, 4))\n",
    "print (np.shape(y2))"
   ]
  },
  {
   "cell_type": "code",
   "execution_count": 9,
   "metadata": {
    "collapsed": true
   },
   "outputs": [],
   "source": [
    "xy = X.dot(Y.T)"
   ]
  },
  {
   "cell_type": "code",
   "execution_count": 10,
   "metadata": {},
   "outputs": [
    {
     "name": "stdout",
     "output_type": "stream",
     "text": [
      "(7, 4)\n"
     ]
    }
   ],
   "source": [
    "print (np.shape(xy))"
   ]
  },
  {
   "cell_type": "code",
   "execution_count": 11,
   "metadata": {
    "collapsed": true
   },
   "outputs": [],
   "source": [
    "dists = np.sqrt(x2 + y2 - 2*xy)"
   ]
  },
  {
   "cell_type": "code",
   "execution_count": 12,
   "metadata": {},
   "outputs": [
    {
     "data": {
      "text/plain": [
       "array([[  9.16515139,   4.24264069,  10.24695077,   7.48331477],\n",
       "       [  8.77496439,   5.91607978,   8.24621125,   6.08276253],\n",
       "       [  8.60232527,   8.71779789,   7.68114575,   5.47722558],\n",
       "       [ 12.08304597,   8.60232527,  12.68857754,   9.69535971],\n",
       "       [  8.77496439,   8.66025404,   7.48331477,   5.38516481],\n",
       "       [  9.69535971,   6.164414  ,  11.        ,   8.1240384 ],\n",
       "       [  8.94427191,   4.69041576,   9.43398113,   6.63324958]])"
      ]
     },
     "execution_count": 12,
     "metadata": {},
     "output_type": "execute_result"
    }
   ],
   "source": [
    "dists"
   ]
  },
  {
   "cell_type": "markdown",
   "metadata": {},
   "source": [
    "Exercise: Compute the distance matrix by explicitly broadcasting the arrays before performing array operations (please review Numpy I notebook). In other words when you perform the array operation, dists = np.sqrt(x2 + y2 - 2*xy), all arrays should have the same shape."
   ]
  },
  {
   "cell_type": "code",
   "execution_count": 13,
   "metadata": {},
   "outputs": [
    {
     "data": {
      "text/plain": [
       "array([1, 1, 3, 1, 3, 1, 1], dtype=int64)"
      ]
     },
     "execution_count": 13,
     "metadata": {},
     "output_type": "execute_result"
    }
   ],
   "source": [
    "labels = np.argmin(dists, axis=1)\n",
    "labels"
   ]
  },
  {
   "cell_type": "markdown",
   "metadata": {},
   "source": [
    "### Compute labels using "
   ]
  },
  {
   "cell_type": "code",
   "execution_count": 14,
   "metadata": {},
   "outputs": [
    {
     "data": {
      "text/plain": [
       "array([1, 1, 3, 1, 3, 1, 1], dtype=int64)"
      ]
     },
     "execution_count": 14,
     "metadata": {},
     "output_type": "execute_result"
    }
   ],
   "source": [
    "from sklearn.metrics import pairwise_distances_argmin\n",
    "labels = pairwise_distances_argmin(X, Y)\n",
    "labels"
   ]
  },
  {
   "cell_type": "markdown",
   "metadata": {},
   "source": [
    "###  Complete Algorithm for finding clusters using k means"
   ]
  },
  {
   "cell_type": "code",
   "execution_count": 15,
   "metadata": {},
   "outputs": [
    {
     "data": {
      "image/png": "[encoded data removed]",
      "text/plain": [
       "<matplotlib.figure.Figure at 0x1dab7bea160>"
      ]
     },
     "metadata": {},
     "output_type": "display_data"
    }
   ],
   "source": [
    "# Generate 2-d samples which can be clustered nicely\n",
    "from sklearn.datasets.samples_generator import make_blobs\n",
    "X, _ = make_blobs(n_samples=300, centers=4,\n",
    "                       cluster_std=0.60, random_state=0)\n",
    "plt.scatter(X[:, 0], X[:, 1], s=50);"
   ]
  },
  {
   "cell_type": "code",
   "execution_count": 16,
   "metadata": {},
   "outputs": [
    {
     "data": {
      "image/png": "[encoded data removed]",
      "text/plain": [
       "<matplotlib.figure.Figure at 0x1dab44dc908>"
      ]
     },
     "metadata": {},
     "output_type": "display_data"
    }
   ],
   "source": [
    "# Randomly choose initial 4  clusters (centroids)\n",
    "n_clusters = 4\n",
    "i = np.random.choice(X.shape[0], n_clusters, replace=False)\n",
    "Y = X[i]\n",
    "\n",
    "while True:\n",
    "    # Assign labels based on closest centroids\n",
    "    labels = pairwise_distances_argmin(X, Y)\n",
    "\n",
    "    # Update centroids by averaging data points assigned to it \n",
    "    Y_new = np.array([X[labels == i].mean(0)\n",
    "                            for i in range(n_clusters)])\n",
    "\n",
    "    # Check for convergence\n",
    "    if np.all(Y == Y_new):\n",
    "        break\n",
    "    Y = Y_new\n",
    "\n",
    "plt.scatter(X[:, 0], X[:, 1], c=labels,\n",
    "            s=50, cmap='viridis');"
   ]
  },
  {
   "cell_type": "markdown",
   "metadata": {},
   "source": [
    "### Using Scikit Package"
   ]
  },
  {
   "cell_type": "code",
   "execution_count": null,
   "metadata": {
    "collapsed": true
   },
   "outputs": [],
   "source": [
    "from sklearn.cluster import KMeans\n",
    "kmeans = KMeans(n_clusters=4)\n",
    "kmeans.fit(X)\n",
    "labels = kmeans.predict(X)"
   ]
  },
  {
   "cell_type": "code",
   "execution_count": null,
   "metadata": {
    "collapsed": true
   },
   "outputs": [],
   "source": [
    "plt.scatter(X[:, 0], X[:, 1], c=labels, s=50, cmap='viridis')\n",
    "\n",
    "centers = kmeans.cluster_centers_\n",
    "plt.scatter(centers[:, 0], centers[:, 1], c='black', s=200, alpha=0.5);"
   ]
  },
  {
   "cell_type": "code",
   "execution_count": null,
   "metadata": {
    "collapsed": true
   },
   "outputs": [],
   "source": [
    "import seaborn as sns\n",
    "from sklearn import datasets"
   ]
  },
  {
   "cell_type": "code",
   "execution_count": null,
   "metadata": {
    "collapsed": true
   },
   "outputs": [],
   "source": [
    "iris = sns.load_dataset(\"iris\")\n",
    "iris.head()"
   ]
  },
  {
   "cell_type": "code",
   "execution_count": null,
   "metadata": {
    "collapsed": true
   },
   "outputs": [],
   "source": [
    "irisn = iris.drop(['species'], axis=1)\n",
    "irisn.head()"
   ]
  },
  {
   "cell_type": "code",
   "execution_count": null,
   "metadata": {
    "collapsed": true
   },
   "outputs": [],
   "source": [
    "X = irisn.as_matrix()"
   ]
  },
  {
   "cell_type": "markdown",
   "metadata": {},
   "source": [
    "Exercise: Repeat the clustering algorithm for Iris 4-d dataset for k = 3. "
   ]
  }
 ],
 "metadata": {
  "kernelspec": {
   "display_name": "Python 3",
   "language": "python",
   "name": "python3"
  },
  "language_info": {
   "codemirror_mode": {
    "name": "ipython",
    "version": 3
   },
   "file_extension": ".py",
   "mimetype": "text/x-python",
   "name": "python",
   "nbconvert_exporter": "python",
   "pygments_lexer": "ipython3",
   "version": "3.6.2"
  }
 },
 "nbformat": 4,
 "nbformat_minor": 2
}
