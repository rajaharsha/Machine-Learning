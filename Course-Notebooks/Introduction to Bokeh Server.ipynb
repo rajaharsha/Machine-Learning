{
 "cells": [
  {
   "cell_type": "markdown",
   "metadata": {},
   "source": [
    "## Introduction to Bokeh Server\n",
    "\n",
    "Bokeh is a python interactive visulization libary that is capable of running on modern browsers. <br>\n",
    "\n",
    "Bokeh Server provides additional capabilities like: <br>\n",
    "\n",
    "1) Create Interactive Dashboards  <br>\n",
    "2) Create deployable Web Applications <br>\n",
    "3) Create Visualizations on Streaming data <br>\n",
    "4) Create Layouts to arrange Plots & Widgets <br>"
   ]
  },
  {
   "cell_type": "markdown",
   "metadata": {},
   "source": [
    "### Laying out Plots and Widgets\n",
    "\n",
    "Bokeh includes several layout options for arranging plots and widgets. \n",
    "There are three layout functions row(), column(), and widgetbox()."
   ]
  },
  {
   "cell_type": "code",
   "execution_count": 1,
   "metadata": {},
   "outputs": [
    {
     "data": {
      "text/html": [
       "\n",
       "    <div class=\"bk-root\">\n",
       "        <a href=\"https://bokeh.pydata.org\" target=\"_blank\" class=\"bk-logo bk-logo-small bk-logo-notebook\"></a>\n",
       "        <span id=\"51abda20-7150-4dc3-8365-3788d179b1d4\">Loading BokehJS ...</span>\n",
       "    </div>"
      ]
     },
     "metadata": {},
     "output_type": "display_data"
    },
    {
     "data": {
      "application/javascript": [
       "\n",
       "(function(root) {\n",
       "  function now() {\n",
       "    return new Date();\n",
       "  }\n",
       "\n",
       "  var force = true;\n",
       "\n",
       "  if (typeof (root._bokeh_onload_callbacks) === \"undefined\" || force === true) {\n",
       "    root._bokeh_onload_callbacks = [];\n",
       "    root._bokeh_is_loading = undefined;\n",
       "  }\n",
       "\n",
       "  var JS_MIME_TYPE = 'application/javascript';\n",
       "  var HTML_MIME_TYPE = 'text/html';\n",
       "  var EXEC_MIME_TYPE = 'application/vnd.bokehjs_exec.v0+json';\n",
       "  var CLASS_NAME = 'output_bokeh rendered_html';\n",
       "\n",
       "  /**\n",
       "   * Render data to the DOM node\n",
       "   */\n",
       "  function render(props, node) {\n",
       "    var script = document.createElement(\"script\");\n",
       "    node.appendChild(script);\n",
       "  }\n",
       "\n",
       "  /**\n",
       "   * Handle when an output is cleared or removed\n",
       "   */\n",
       "  function handleClearOutput(event, handle) {\n",
       "    var cell = handle.cell;\n",
       "\n",
       "    var id = cell.output_area._bokeh_element_id;\n",
       "    var server_id = cell.output_area._bokeh_server_id;\n",
       "    // Clean up Bokeh references\n",
       "    if (id !== undefined) {\n",
       "      Bokeh.index[id].model.document.clear();\n",
       "      delete Bokeh.index[id];\n",
       "    }\n",
       "\n",
       "    if (server_id !== undefined) {\n",
       "      // Clean up Bokeh references\n",
       "      var cmd = \"from bokeh.io.state import curstate; print(curstate().uuid_to_server['\" + server_id + \"'].get_sessions()[0].document.roots[0]._id)\";\n",
       "      cell.notebook.kernel.execute(cmd, {\n",
       "        iopub: {\n",
       "          output: function(msg) {\n",
       "            var element_id = msg.content.text.trim();\n",
       "            Bokeh.index[element_id].model.document.clear();\n",
       "            delete Bokeh.index[element_id];\n",
       "          }\n",
       "        }\n",
       "      });\n",
       "      // Destroy server and session\n",
       "      var cmd = \"import bokeh.io.notebook as ion; ion.destroy_server('\" + server_id + \"')\";\n",
       "      cell.notebook.kernel.execute(cmd);\n",
       "    }\n",
       "  }\n",
       "\n",
       "  /**\n",
       "   * Handle when a new output is added\n",
       "   */\n",
       "  function handleAddOutput(event, handle) {\n",
       "    var output_area = handle.output_area;\n",
       "    var output = handle.output;\n",
       "\n",
       "    // limit handleAddOutput to display_data with EXEC_MIME_TYPE content only\n",
       "    if ((output.output_type != \"display_data\") || (!output.data.hasOwnProperty(EXEC_MIME_TYPE))) {\n",
       "      return\n",
       "    }\n",
       "\n",
       "    var toinsert = output_area.element.find(\".\" + CLASS_NAME.split(' ')[0]);\n",
       "\n",
       "    if (output.metadata[EXEC_MIME_TYPE][\"id\"] !== undefined) {\n",
       "      toinsert[0].firstChild.textContent = output.data[JS_MIME_TYPE];\n",
       "      // store reference to embed id on output_area\n",
       "      output_area._bokeh_element_id = output.metadata[EXEC_MIME_TYPE][\"id\"];\n",
       "    }\n",
       "    if (output.metadata[EXEC_MIME_TYPE][\"server_id\"] !== undefined) {\n",
       "      var bk_div = document.createElement(\"div\");\n",
       "      bk_div.innerHTML = output.data[HTML_MIME_TYPE];\n",
       "      var script_attrs = bk_div.children[0].attributes;\n",
       "      for (var i = 0; i < script_attrs.length; i++) {\n",
       "        toinsert[0].firstChild.setAttribute(script_attrs[i].name, script_attrs[i].value);\n",
       "      }\n",
       "      // store reference to server id on output_area\n",
       "      output_area._bokeh_server_id = output.metadata[EXEC_MIME_TYPE][\"server_id\"];\n",
       "    }\n",
       "  }\n",
       "\n",
       "  function register_renderer(events, OutputArea) {\n",
       "\n",
       "    function append_mime(data, metadata, element) {\n",
       "      // create a DOM node to render to\n",
       "      var toinsert = this.create_output_subarea(\n",
       "        metadata,\n",
       "        CLASS_NAME,\n",
       "        EXEC_MIME_TYPE\n",
       "      );\n",
       "      this.keyboard_manager.register_events(toinsert);\n",
       "      // Render to node\n",
       "      var props = {data: data, metadata: metadata[EXEC_MIME_TYPE]};\n",
       "      render(props, toinsert[0]);\n",
       "      element.append(toinsert);\n",
       "      return toinsert\n",
       "    }\n",
       "\n",
       "    /* Handle when an output is cleared or removed */\n",
       "    events.on('clear_output.CodeCell', handleClearOutput);\n",
       "    events.on('delete.Cell', handleClearOutput);\n",
       "\n",
       "    /* Handle when a new output is added */\n",
       "    events.on('output_added.OutputArea', handleAddOutput);\n",
       "\n",
       "    /**\n",
       "     * Register the mime type and append_mime function with output_area\n",
       "     */\n",
       "    OutputArea.prototype.register_mime_type(EXEC_MIME_TYPE, append_mime, {\n",
       "      /* Is output safe? */\n",
       "      safe: true,\n",
       "      /* Index of renderer in `output_area.display_order` */\n",
       "      index: 0\n",
       "    });\n",
       "  }\n",
       "\n",
       "  // register the mime type if in Jupyter Notebook environment and previously unregistered\n",
       "  if (root.Jupyter !== undefined) {\n",
       "    var events = require('base/js/events');\n",
       "    var OutputArea = require('notebook/js/outputarea').OutputArea;\n",
       "\n",
       "    if (OutputArea.prototype.mime_types().indexOf(EXEC_MIME_TYPE) == -1) {\n",
       "      register_renderer(events, OutputArea);\n",
       "    }\n",
       "  }\n",
       "\n",
       "  \n",
       "  if (typeof (root._bokeh_timeout) === \"undefined\" || force === true) {\n",
       "    root._bokeh_timeout = Date.now() + 5000;\n",
       "    root._bokeh_failed_load = false;\n",
       "  }\n",
       "\n",
       "  var NB_LOAD_WARNING = {'data': {'text/html':\n",
       "     \"<div style='background-color: #fdd'>\\n\"+\n",
       "     \"<p>\\n\"+\n",
       "     \"BokehJS does not appear to have successfully loaded. If loading BokehJS from CDN, this \\n\"+\n",
       "     \"may be due to a slow or bad network connection. Possible fixes:\\n\"+\n",
       "     \"</p>\\n\"+\n",
       "     \"<ul>\\n\"+\n",
       "     \"<li>re-rerun `output_notebook()` to attempt to load from CDN again, or</li>\\n\"+\n",
       "     \"<li>use INLINE resources instead, as so:</li>\\n\"+\n",
       "     \"</ul>\\n\"+\n",
       "     \"<code>\\n\"+\n",
       "     \"from bokeh.resources import INLINE\\n\"+\n",
       "     \"output_notebook(resources=INLINE)\\n\"+\n",
       "     \"</code>\\n\"+\n",
       "     \"</div>\"}};\n",
       "\n",
       "  function display_loaded() {\n",
       "    var el = document.getElementById(\"51abda20-7150-4dc3-8365-3788d179b1d4\");\n",
       "    if (el != null) {\n",
       "      el.textContent = \"BokehJS is loading...\";\n",
       "    }\n",
       "    if (root.Bokeh !== undefined) {\n",
       "      if (el != null) {\n",
       "        el.textContent = \"BokehJS \" + root.Bokeh.version + \" successfully loaded.\";\n",
       "      }\n",
       "    } else if (Date.now() < root._bokeh_timeout) {\n",
       "      setTimeout(display_loaded, 100)\n",
       "    }\n",
       "  }\n",
       "\n",
       "\n",
       "  function run_callbacks() {\n",
       "    try {\n",
       "      root._bokeh_onload_callbacks.forEach(function(callback) { callback() });\n",
       "    }\n",
       "    finally {\n",
       "      delete root._bokeh_onload_callbacks\n",
       "    }\n",
       "    console.info(\"Bokeh: all callbacks have finished\");\n",
       "  }\n",
       "\n",
       "  function load_libs(js_urls, callback) {\n",
       "    root._bokeh_onload_callbacks.push(callback);\n",
       "    if (root._bokeh_is_loading > 0) {\n",
       "      console.log(\"Bokeh: BokehJS is being loaded, scheduling callback at\", now());\n",
       "      return null;\n",
       "    }\n",
       "    if (js_urls == null || js_urls.length === 0) {\n",
       "      run_callbacks();\n",
       "      return null;\n",
       "    }\n",
       "    console.log(\"Bokeh: BokehJS not loaded, scheduling load and callback at\", now());\n",
       "    root._bokeh_is_loading = js_urls.length;\n",
       "    for (var i = 0; i < js_urls.length; i++) {\n",
       "      var url = js_urls[i];\n",
       "      var s = document.createElement('script');\n",
       "      s.src = url;\n",
       "      s.async = false;\n",
       "      s.onreadystatechange = s.onload = function() {\n",
       "        root._bokeh_is_loading--;\n",
       "        if (root._bokeh_is_loading === 0) {\n",
       "          console.log(\"Bokeh: all BokehJS libraries loaded\");\n",
       "          run_callbacks()\n",
       "        }\n",
       "      };\n",
       "      s.onerror = function() {\n",
       "        console.warn(\"failed to load library \" + url);\n",
       "      };\n",
       "      console.log(\"Bokeh: injecting script tag for BokehJS library: \", url);\n",
       "      document.getElementsByTagName(\"head\")[0].appendChild(s);\n",
       "    }\n",
       "  };var element = document.getElementById(\"51abda20-7150-4dc3-8365-3788d179b1d4\");\n",
       "  if (element == null) {\n",
       "    console.log(\"Bokeh: ERROR: autoload.js configured with elementid '51abda20-7150-4dc3-8365-3788d179b1d4' but no matching script tag was found. \")\n",
       "    return false;\n",
       "  }\n",
       "\n",
       "  var js_urls = [\"https://cdn.pydata.org/bokeh/release/bokeh-0.12.13.min.js\", \"https://cdn.pydata.org/bokeh/release/bokeh-widgets-0.12.13.min.js\", \"https://cdn.pydata.org/bokeh/release/bokeh-tables-0.12.13.min.js\", \"https://cdn.pydata.org/bokeh/release/bokeh-gl-0.12.13.min.js\"];\n",
       "\n",
       "  var inline_js = [\n",
       "    function(Bokeh) {\n",
       "      Bokeh.set_log_level(\"info\");\n",
       "    },\n",
       "    \n",
       "    function(Bokeh) {\n",
       "      \n",
       "    },\n",
       "    function(Bokeh) {\n",
       "      console.log(\"Bokeh: injecting CSS: https://cdn.pydata.org/bokeh/release/bokeh-0.12.13.min.css\");\n",
       "      Bokeh.embed.inject_css(\"https://cdn.pydata.org/bokeh/release/bokeh-0.12.13.min.css\");\n",
       "      console.log(\"Bokeh: injecting CSS: https://cdn.pydata.org/bokeh/release/bokeh-widgets-0.12.13.min.css\");\n",
       "      Bokeh.embed.inject_css(\"https://cdn.pydata.org/bokeh/release/bokeh-widgets-0.12.13.min.css\");\n",
       "      console.log(\"Bokeh: injecting CSS: https://cdn.pydata.org/bokeh/release/bokeh-tables-0.12.13.min.css\");\n",
       "      Bokeh.embed.inject_css(\"https://cdn.pydata.org/bokeh/release/bokeh-tables-0.12.13.min.css\");\n",
       "    }\n",
       "  ];\n",
       "\n",
       "  function run_inline_js() {\n",
       "    \n",
       "    if ((root.Bokeh !== undefined) || (force === true)) {\n",
       "      for (var i = 0; i < inline_js.length; i++) {\n",
       "        inline_js[i].call(root, root.Bokeh);\n",
       "      }if (force === true) {\n",
       "        display_loaded();\n",
       "      }} else if (Date.now() < root._bokeh_timeout) {\n",
       "      setTimeout(run_inline_js, 100);\n",
       "    } else if (!root._bokeh_failed_load) {\n",
       "      console.log(\"Bokeh: BokehJS failed to load within specified timeout.\");\n",
       "      root._bokeh_failed_load = true;\n",
       "    } else if (force !== true) {\n",
       "      var cell = $(document.getElementById(\"51abda20-7150-4dc3-8365-3788d179b1d4\")).parents('.cell').data().cell;\n",
       "      cell.output_area.append_execute_result(NB_LOAD_WARNING)\n",
       "    }\n",
       "\n",
       "  }\n",
       "\n",
       "  if (root._bokeh_is_loading === 0) {\n",
       "    console.log(\"Bokeh: BokehJS loaded, going straight to plotting\");\n",
       "    run_inline_js();\n",
       "  } else {\n",
       "    load_libs(js_urls, function() {\n",
       "      console.log(\"Bokeh: BokehJS plotting callback run at\", now());\n",
       "      run_inline_js();\n",
       "    });\n",
       "  }\n",
       "}(window));"
      ],
      "application/vnd.bokehjs_load.v0+json": "\n(function(root) {\n  function now() {\n    return new Date();\n  }\n\n  var force = true;\n\n  if (typeof (root._bokeh_onload_callbacks) === \"undefined\" || force === true) {\n    root._bokeh_onload_callbacks = [];\n    root._bokeh_is_loading = undefined;\n  }\n\n  \n\n  \n  if (typeof (root._bokeh_timeout) === \"undefined\" || force === true) {\n    root._bokeh_timeout = Date.now() + 5000;\n    root._bokeh_failed_load = false;\n  }\n\n  var NB_LOAD_WARNING = {'data': {'text/html':\n     \"<div style='background-color: #fdd'>\\n\"+\n     \"<p>\\n\"+\n     \"BokehJS does not appear to have successfully loaded. If loading BokehJS from CDN, this \\n\"+\n     \"may be due to a slow or bad network connection. Possible fixes:\\n\"+\n     \"</p>\\n\"+\n     \"<ul>\\n\"+\n     \"<li>re-rerun `output_notebook()` to attempt to load from CDN again, or</li>\\n\"+\n     \"<li>use INLINE resources instead, as so:</li>\\n\"+\n     \"</ul>\\n\"+\n     \"<code>\\n\"+\n     \"from bokeh.resources import INLINE\\n\"+\n     \"output_notebook(resources=INLINE)\\n\"+\n     \"</code>\\n\"+\n     \"</div>\"}};\n\n  function display_loaded() {\n    var el = document.getElementById(\"51abda20-7150-4dc3-8365-3788d179b1d4\");\n    if (el != null) {\n      el.textContent = \"BokehJS is loading...\";\n    }\n    if (root.Bokeh !== undefined) {\n      if (el != null) {\n        el.textContent = \"BokehJS \" + root.Bokeh.version + \" successfully loaded.\";\n      }\n    } else if (Date.now() < root._bokeh_timeout) {\n      setTimeout(display_loaded, 100)\n    }\n  }\n\n\n  function run_callbacks() {\n    try {\n      root._bokeh_onload_callbacks.forEach(function(callback) { callback() });\n    }\n    finally {\n      delete root._bokeh_onload_callbacks\n    }\n    console.info(\"Bokeh: all callbacks have finished\");\n  }\n\n  function load_libs(js_urls, callback) {\n    root._bokeh_onload_callbacks.push(callback);\n    if (root._bokeh_is_loading > 0) {\n      console.log(\"Bokeh: BokehJS is being loaded, scheduling callback at\", now());\n      return null;\n    }\n    if (js_urls == null || js_urls.length === 0) {\n      run_callbacks();\n      return null;\n    }\n    console.log(\"Bokeh: BokehJS not loaded, scheduling load and callback at\", now());\n    root._bokeh_is_loading = js_urls.length;\n    for (var i = 0; i < js_urls.length; i++) {\n      var url = js_urls[i];\n      var s = document.createElement('script');\n      s.src = url;\n      s.async = false;\n      s.onreadystatechange = s.onload = function() {\n        root._bokeh_is_loading--;\n        if (root._bokeh_is_loading === 0) {\n          console.log(\"Bokeh: all BokehJS libraries loaded\");\n          run_callbacks()\n        }\n      };\n      s.onerror = function() {\n        console.warn(\"failed to load library \" + url);\n      };\n      console.log(\"Bokeh: injecting script tag for BokehJS library: \", url);\n      document.getElementsByTagName(\"head\")[0].appendChild(s);\n    }\n  };var element = document.getElementById(\"51abda20-7150-4dc3-8365-3788d179b1d4\");\n  if (element == null) {\n    console.log(\"Bokeh: ERROR: autoload.js configured with elementid '51abda20-7150-4dc3-8365-3788d179b1d4' but no matching script tag was found. \")\n    return false;\n  }\n\n  var js_urls = [\"https://cdn.pydata.org/bokeh/release/bokeh-0.12.13.min.js\", \"https://cdn.pydata.org/bokeh/release/bokeh-widgets-0.12.13.min.js\", \"https://cdn.pydata.org/bokeh/release/bokeh-tables-0.12.13.min.js\", \"https://cdn.pydata.org/bokeh/release/bokeh-gl-0.12.13.min.js\"];\n\n  var inline_js = [\n    function(Bokeh) {\n      Bokeh.set_log_level(\"info\");\n    },\n    \n    function(Bokeh) {\n      \n    },\n    function(Bokeh) {\n      console.log(\"Bokeh: injecting CSS: https://cdn.pydata.org/bokeh/release/bokeh-0.12.13.min.css\");\n      Bokeh.embed.inject_css(\"https://cdn.pydata.org/bokeh/release/bokeh-0.12.13.min.css\");\n      console.log(\"Bokeh: injecting CSS: https://cdn.pydata.org/bokeh/release/bokeh-widgets-0.12.13.min.css\");\n      Bokeh.embed.inject_css(\"https://cdn.pydata.org/bokeh/release/bokeh-widgets-0.12.13.min.css\");\n      console.log(\"Bokeh: injecting CSS: https://cdn.pydata.org/bokeh/release/bokeh-tables-0.12.13.min.css\");\n      Bokeh.embed.inject_css(\"https://cdn.pydata.org/bokeh/release/bokeh-tables-0.12.13.min.css\");\n    }\n  ];\n\n  function run_inline_js() {\n    \n    if ((root.Bokeh !== undefined) || (force === true)) {\n      for (var i = 0; i < inline_js.length; i++) {\n        inline_js[i].call(root, root.Bokeh);\n      }if (force === true) {\n        display_loaded();\n      }} else if (Date.now() < root._bokeh_timeout) {\n      setTimeout(run_inline_js, 100);\n    } else if (!root._bokeh_failed_load) {\n      console.log(\"Bokeh: BokehJS failed to load within specified timeout.\");\n      root._bokeh_failed_load = true;\n    } else if (force !== true) {\n      var cell = $(document.getElementById(\"51abda20-7150-4dc3-8365-3788d179b1d4\")).parents('.cell').data().cell;\n      cell.output_area.append_execute_result(NB_LOAD_WARNING)\n    }\n\n  }\n\n  if (root._bokeh_is_loading === 0) {\n    console.log(\"Bokeh: BokehJS loaded, going straight to plotting\");\n    run_inline_js();\n  } else {\n    load_libs(js_urls, function() {\n      console.log(\"Bokeh: BokehJS plotting callback run at\", now());\n      run_inline_js();\n    });\n  }\n}(window));"
     },
     "metadata": {},
     "output_type": "display_data"
    },
    {
     "data": {
      "text/html": [
       "<div style=\"display: table;\"><div style=\"display: table-row;\"><div style=\"display: table-cell;\"><b title=\"bokeh.models.renderers.GlyphRenderer\">GlyphRenderer</b>(</div><div style=\"display: table-cell;\">id&nbsp;=&nbsp;'3c2f567b-3834-4d5a-8ceb-998a9d318667', <span id=\"96da698c-1b54-4307-bbe7-ea2ac7733afe\" style=\"cursor: pointer;\">&hellip;)</span></div></div><div class=\"be9b73ab-4782-4bd8-8b51-958ce48be4dc\" style=\"display: none;\"><div style=\"display: table-cell;\"></div><div style=\"display: table-cell;\">data_source&nbsp;=&nbsp;ColumnDataSource(id='1f93bfec-5ea1-439c-977d-a552fffcadb2', ...),</div></div><div class=\"be9b73ab-4782-4bd8-8b51-958ce48be4dc\" style=\"display: none;\"><div style=\"display: table-cell;\"></div><div style=\"display: table-cell;\">glyph&nbsp;=&nbsp;Square(id='b60b1668-655e-4ca7-ba5a-5b4da85eae44', ...),</div></div><div class=\"be9b73ab-4782-4bd8-8b51-958ce48be4dc\" style=\"display: none;\"><div style=\"display: table-cell;\"></div><div style=\"display: table-cell;\">hover_glyph&nbsp;=&nbsp;None,</div></div><div class=\"be9b73ab-4782-4bd8-8b51-958ce48be4dc\" style=\"display: none;\"><div style=\"display: table-cell;\"></div><div style=\"display: table-cell;\">js_event_callbacks&nbsp;=&nbsp;{},</div></div><div class=\"be9b73ab-4782-4bd8-8b51-958ce48be4dc\" style=\"display: none;\"><div style=\"display: table-cell;\"></div><div style=\"display: table-cell;\">js_property_callbacks&nbsp;=&nbsp;{},</div></div><div class=\"be9b73ab-4782-4bd8-8b51-958ce48be4dc\" style=\"display: none;\"><div style=\"display: table-cell;\"></div><div style=\"display: table-cell;\">level&nbsp;=&nbsp;'glyph',</div></div><div class=\"be9b73ab-4782-4bd8-8b51-958ce48be4dc\" style=\"display: none;\"><div style=\"display: table-cell;\"></div><div style=\"display: table-cell;\">muted&nbsp;=&nbsp;False,</div></div><div class=\"be9b73ab-4782-4bd8-8b51-958ce48be4dc\" style=\"display: none;\"><div style=\"display: table-cell;\"></div><div style=\"display: table-cell;\">muted_glyph&nbsp;=&nbsp;None,</div></div><div class=\"be9b73ab-4782-4bd8-8b51-958ce48be4dc\" style=\"display: none;\"><div style=\"display: table-cell;\"></div><div style=\"display: table-cell;\">name&nbsp;=&nbsp;None,</div></div><div class=\"be9b73ab-4782-4bd8-8b51-958ce48be4dc\" style=\"display: none;\"><div style=\"display: table-cell;\"></div><div style=\"display: table-cell;\">nonselection_glyph&nbsp;=&nbsp;Square(id='5b2b549f-6e42-48fc-831c-8123d23f3a8a', ...),</div></div><div class=\"be9b73ab-4782-4bd8-8b51-958ce48be4dc\" style=\"display: none;\"><div style=\"display: table-cell;\"></div><div style=\"display: table-cell;\">selection_glyph&nbsp;=&nbsp;None,</div></div><div class=\"be9b73ab-4782-4bd8-8b51-958ce48be4dc\" style=\"display: none;\"><div style=\"display: table-cell;\"></div><div style=\"display: table-cell;\">subscribed_events&nbsp;=&nbsp;[],</div></div><div class=\"be9b73ab-4782-4bd8-8b51-958ce48be4dc\" style=\"display: none;\"><div style=\"display: table-cell;\"></div><div style=\"display: table-cell;\">tags&nbsp;=&nbsp;[],</div></div><div class=\"be9b73ab-4782-4bd8-8b51-958ce48be4dc\" style=\"display: none;\"><div style=\"display: table-cell;\"></div><div style=\"display: table-cell;\">view&nbsp;=&nbsp;CDSView(id='691122a0-e5f1-4901-9660-f1f401eadf21', ...),</div></div><div class=\"be9b73ab-4782-4bd8-8b51-958ce48be4dc\" style=\"display: none;\"><div style=\"display: table-cell;\"></div><div style=\"display: table-cell;\">visible&nbsp;=&nbsp;True,</div></div><div class=\"be9b73ab-4782-4bd8-8b51-958ce48be4dc\" style=\"display: none;\"><div style=\"display: table-cell;\"></div><div style=\"display: table-cell;\">x_range_name&nbsp;=&nbsp;'default',</div></div><div class=\"be9b73ab-4782-4bd8-8b51-958ce48be4dc\" style=\"display: none;\"><div style=\"display: table-cell;\"></div><div style=\"display: table-cell;\">y_range_name&nbsp;=&nbsp;'default')</div></div></div>\n",
       "<script>\n",
       "(function() {\n",
       "  var expanded = false;\n",
       "  var ellipsis = document.getElementById(\"96da698c-1b54-4307-bbe7-ea2ac7733afe\");\n",
       "  ellipsis.addEventListener(\"click\", function() {\n",
       "    var rows = document.getElementsByClassName(\"be9b73ab-4782-4bd8-8b51-958ce48be4dc\");\n",
       "    for (var i = 0; i < rows.length; i++) {\n",
       "      var el = rows[i];\n",
       "      el.style.display = expanded ? \"none\" : \"table-row\";\n",
       "    }\n",
       "    ellipsis.innerHTML = expanded ? \"&hellip;)\" : \"&lsaquo;&lsaquo;&lsaquo;\";\n",
       "    expanded = !expanded;\n",
       "  });\n",
       "})();\n",
       "</script>\n"
      ],
      "text/plain": [
       "GlyphRenderer(id='3c2f567b-3834-4d5a-8ceb-998a9d318667', ...)"
      ]
     },
     "execution_count": 1,
     "metadata": {},
     "output_type": "execute_result"
    }
   ],
   "source": [
    "from bokeh.io import output_notebook, show\n",
    "output_notebook()\n",
    "from bokeh.plotting import figure, show, ColumnDataSource\n",
    "\n",
    "x = list(range(11))\n",
    "y0 = x\n",
    "y1 = [10 - i for i in x]\n",
    "y2 = [abs(i - 5) for i in x]\n",
    "\n",
    "# create a new plot\n",
    "s1 = figure(plot_width=250, plot_height=250, title=None)\n",
    "s1.circle(x, y0, size=10, color=\"navy\", alpha=0.5)\n",
    "\n",
    "# create another one\n",
    "s2 = figure(plot_width=250, plot_height=250, title=None)\n",
    "s2.triangle(x, y1, size=10, color=\"firebrick\", alpha=0.5)\n",
    "\n",
    "# create and another\n",
    "s3 = figure(plot_width=250, plot_height=250, title=None)\n",
    "s3.square(x, y2, size=10, color=\"olive\", alpha=0.5)"
   ]
  },
  {
   "cell_type": "markdown",
   "metadata": {},
   "source": [
    "#### Row"
   ]
  },
  {
   "cell_type": "code",
   "execution_count": 2,
   "metadata": {},
   "outputs": [
    {
     "data": {
      "text/html": [
       "\n",
       "<div class=\"bk-root\">\n",
       "    <div class=\"bk-plotdiv\" id=\"4f4a4a0d-91ea-4a9b-b7c3-cb1ece287e42\"></div>\n",
       "</div>"
      ]
     },
     "metadata": {},
     "output_type": "display_data"
    },
    {
     "data": {
      "application/javascript": [
       "(function(root) {\n",
       "  function embed_document(root) {\n",
       "    \n",
       "  var docs_json = {\"a8c80b0c-a3cf-4e64-8086-ff7b30e5ed94\":{\"roots\":{\"references\":[{\"attributes\":{\"bottom_units\":\"screen\",\"fill_alpha\":{\"value\":0.5},\"fill_color\":{\"value\":\"lightgrey\"},\"left_units\":\"screen\",\"level\":\"overlay\",\"line_alpha\":{\"value\":1.0},\"line_color\":{\"value\":\"black\"},\"line_dash\":[4,4],\"line_width\":{\"value\":2},\"plot\":null,\"render_mode\":\"css\",\"right_units\":\"screen\",\"top_units\":\"screen\"},\"id\":\"e1bbea47-7abd-4925-a89f-c68fc93dfd70\",\"type\":\"BoxAnnotation\"},{\"attributes\":{},\"id\":\"b05014c3-0d53-48fd-b4d5-0ae6d532ac0a\",\"type\":\"PanTool\"},{\"attributes\":{\"data_source\":{\"id\":\"898273e3-199f-4461-b111-dd199b295870\",\"type\":\"ColumnDataSource\"},\"glyph\":{\"id\":\"fd7d576d-d583-4302-8c2d-ca3f89e37f98\",\"type\":\"Circle\"},\"hover_glyph\":null,\"muted_glyph\":null,\"nonselection_glyph\":{\"id\":\"cbfedceb-6e48-4428-9c08-621072ef6c8f\",\"type\":\"Circle\"},\"selection_glyph\":null,\"view\":{\"id\":\"166035fe-730b-44f9-9601-bced4a15d767\",\"type\":\"CDSView\"}},\"id\":\"4919b5d1-4394-4a0d-84c3-25626e4dca1d\",\"type\":\"GlyphRenderer\"},{\"attributes\":{},\"id\":\"21d51d16-c73b-45d7-bd20-dc62e6ac6610\",\"type\":\"WheelZoomTool\"},{\"attributes\":{\"overlay\":{\"id\":\"e1bbea47-7abd-4925-a89f-c68fc93dfd70\",\"type\":\"BoxAnnotation\"}},\"id\":\"9879ceff-c12d-492b-a7ed-8b385d684473\",\"type\":\"BoxZoomTool\"},{\"attributes\":{},\"id\":\"d80c8f66-3803-42a4-8928-0a0fdfb0fe38\",\"type\":\"BasicTickFormatter\"},{\"attributes\":{},\"id\":\"0d4042b7-741a-4c8b-a597-daeb9073a150\",\"type\":\"SaveTool\"},{\"attributes\":{},\"id\":\"6c2eed89-9e62-45c5-8431-30d520582ac1\",\"type\":\"ResetTool\"},{\"attributes\":{},\"id\":\"ae428d8f-1716-46e4-ad62-c47e94662984\",\"type\":\"HelpTool\"},{\"attributes\":{\"source\":{\"id\":\"1f93bfec-5ea1-439c-977d-a552fffcadb2\",\"type\":\"ColumnDataSource\"}},\"id\":\"691122a0-e5f1-4901-9660-f1f401eadf21\",\"type\":\"CDSView\"},{\"attributes\":{},\"id\":\"10503c8a-dc1f-4f6b-9a9a-d4660fdbed23\",\"type\":\"BasicTickFormatter\"},{\"attributes\":{\"active_drag\":\"auto\",\"active_inspect\":\"auto\",\"active_scroll\":\"auto\",\"active_tap\":\"auto\",\"tools\":[{\"id\":\"2d0c17c3-95de-4094-adb6-18e7ec6fd63c\",\"type\":\"PanTool\"},{\"id\":\"a3759e73-7980-4478-ab2f-d9c7f77921b9\",\"type\":\"WheelZoomTool\"},{\"id\":\"b75e7466-e213-4a12-b2de-aca215ae7c91\",\"type\":\"BoxZoomTool\"},{\"id\":\"255493d6-7010-47ef-bd2c-6ac24b4a8b56\",\"type\":\"SaveTool\"},{\"id\":\"b42112aa-0e5a-451b-a448-d799de75f892\",\"type\":\"ResetTool\"},{\"id\":\"8d8a1d61-5f80-4490-bcdb-d0ff3c4db00c\",\"type\":\"HelpTool\"}]},\"id\":\"f738991f-d747-47bc-91b5-2e93b9e0adf6\",\"type\":\"Toolbar\"},{\"attributes\":{\"source\":{\"id\":\"c097db64-2b8d-4d91-b84d-04a26c1ae327\",\"type\":\"ColumnDataSource\"}},\"id\":\"a6843a23-e919-4e07-9cb6-3c58bdd7fabd\",\"type\":\"CDSView\"},{\"attributes\":{\"fill_alpha\":{\"value\":0.1},\"fill_color\":{\"value\":\"#1f77b4\"},\"line_alpha\":{\"value\":0.1},\"line_color\":{\"value\":\"#1f77b4\"},\"size\":{\"units\":\"screen\",\"value\":10},\"x\":{\"field\":\"x\"},\"y\":{\"field\":\"y\"}},\"id\":\"53e9b6f6-77d1-4a2a-b60a-eeb2ae13fe6a\",\"type\":\"Triangle\"},{\"attributes\":{\"active_drag\":\"auto\",\"active_inspect\":\"auto\",\"active_scroll\":\"auto\",\"active_tap\":\"auto\",\"tools\":[{\"id\":\"b05014c3-0d53-48fd-b4d5-0ae6d532ac0a\",\"type\":\"PanTool\"},{\"id\":\"21d51d16-c73b-45d7-bd20-dc62e6ac6610\",\"type\":\"WheelZoomTool\"},{\"id\":\"9879ceff-c12d-492b-a7ed-8b385d684473\",\"type\":\"BoxZoomTool\"},{\"id\":\"0d4042b7-741a-4c8b-a597-daeb9073a150\",\"type\":\"SaveTool\"},{\"id\":\"6c2eed89-9e62-45c5-8431-30d520582ac1\",\"type\":\"ResetTool\"},{\"id\":\"ae428d8f-1716-46e4-ad62-c47e94662984\",\"type\":\"HelpTool\"}]},\"id\":\"c2b9bb5b-12c1-4fd9-8ee2-8a2d57c95d9e\",\"type\":\"Toolbar\"},{\"attributes\":{},\"id\":\"956403be-2d58-418b-92f6-2e612cb01bc4\",\"type\":\"LinearScale\"},{\"attributes\":{\"callback\":null},\"id\":\"2c66af97-d457-42af-83c8-3b04dc70ff7a\",\"type\":\"DataRange1d\"},{\"attributes\":{\"callback\":null,\"column_names\":[\"x\",\"y\"],\"data\":{\"x\":[0,1,2,3,4,5,6,7,8,9,10],\"y\":[0,1,2,3,4,5,6,7,8,9,10]}},\"id\":\"898273e3-199f-4461-b111-dd199b295870\",\"type\":\"ColumnDataSource\"},{\"attributes\":{\"callback\":null},\"id\":\"8d6c0998-ee82-4e7d-b311-ce7bba032328\",\"type\":\"DataRange1d\"},{\"attributes\":{\"callback\":null,\"column_names\":[\"x\",\"y\"],\"data\":{\"x\":[0,1,2,3,4,5,6,7,8,9,10],\"y\":[10,9,8,7,6,5,4,3,2,1,0]}},\"id\":\"c097db64-2b8d-4d91-b84d-04a26c1ae327\",\"type\":\"ColumnDataSource\"},{\"attributes\":{},\"id\":\"00476ae7-187f-483f-b196-95364581baa3\",\"type\":\"LinearScale\"},{\"attributes\":{\"plot\":{\"id\":\"aa9ef112-b76e-4178-8b15-0794aa09cea3\",\"subtype\":\"Figure\",\"type\":\"Plot\"},\"ticker\":{\"id\":\"9c83d71d-085e-4af9-8713-0fb13cdd6888\",\"type\":\"BasicTicker\"}},\"id\":\"a93f6e70-fbde-4973-9166-2c5b36dfdd7e\",\"type\":\"Grid\"},{\"attributes\":{\"callback\":null},\"id\":\"0e1b4636-c1d0-48ea-9133-8a05c6b4ac46\",\"type\":\"DataRange1d\"},{\"attributes\":{\"formatter\":{\"id\":\"c8366598-fa19-4b02-9b43-970952b18695\",\"type\":\"BasicTickFormatter\"},\"plot\":{\"id\":\"aa9ef112-b76e-4178-8b15-0794aa09cea3\",\"subtype\":\"Figure\",\"type\":\"Plot\"},\"ticker\":{\"id\":\"9c83d71d-085e-4af9-8713-0fb13cdd6888\",\"type\":\"BasicTicker\"}},\"id\":\"47ff3b04-0546-4b51-841c-cbac9f3ea68c\",\"type\":\"LinearAxis\"},{\"attributes\":{},\"id\":\"9c83d71d-085e-4af9-8713-0fb13cdd6888\",\"type\":\"BasicTicker\"},{\"attributes\":{\"formatter\":{\"id\":\"f6abfee2-e42e-41f2-8627-f05103ec714b\",\"type\":\"BasicTickFormatter\"},\"plot\":{\"id\":\"aa9ef112-b76e-4178-8b15-0794aa09cea3\",\"subtype\":\"Figure\",\"type\":\"Plot\"},\"ticker\":{\"id\":\"6b3f210a-18a3-4680-965b-1b224db6c192\",\"type\":\"BasicTicker\"}},\"id\":\"652ca8eb-fabe-44ff-9a77-e58d16c2dfd3\",\"type\":\"LinearAxis\"},{\"attributes\":{\"children\":[{\"id\":\"8313e308-a470-462f-aab5-88dce41c45ce\",\"subtype\":\"Figure\",\"type\":\"Plot\"},{\"id\":\"aa9ef112-b76e-4178-8b15-0794aa09cea3\",\"subtype\":\"Figure\",\"type\":\"Plot\"},{\"id\":\"eaaa383e-3c89-408a-ae14-87639d6061b7\",\"subtype\":\"Figure\",\"type\":\"Plot\"}]},\"id\":\"e1d397cf-ef94-4f3c-819b-0080596b4012\",\"type\":\"Row\"},{\"attributes\":{},\"id\":\"6b3f210a-18a3-4680-965b-1b224db6c192\",\"type\":\"BasicTicker\"},{\"attributes\":{\"dimension\":1,\"plot\":{\"id\":\"aa9ef112-b76e-4178-8b15-0794aa09cea3\",\"subtype\":\"Figure\",\"type\":\"Plot\"},\"ticker\":{\"id\":\"6b3f210a-18a3-4680-965b-1b224db6c192\",\"type\":\"BasicTicker\"}},\"id\":\"fc33308d-13d3-4f83-86c8-49cae6de9a90\",\"type\":\"Grid\"},{\"attributes\":{\"data_source\":{\"id\":\"c097db64-2b8d-4d91-b84d-04a26c1ae327\",\"type\":\"ColumnDataSource\"},\"glyph\":{\"id\":\"f9f0b32d-c3e1-4a68-bdc6-892f73ab4f26\",\"type\":\"Triangle\"},\"hover_glyph\":null,\"muted_glyph\":null,\"nonselection_glyph\":{\"id\":\"53e9b6f6-77d1-4a2a-b60a-eeb2ae13fe6a\",\"type\":\"Triangle\"},\"selection_glyph\":null,\"view\":{\"id\":\"a6843a23-e919-4e07-9cb6-3c58bdd7fabd\",\"type\":\"CDSView\"}},\"id\":\"e6f07864-83f6-4428-acdb-e7e738baa56b\",\"type\":\"GlyphRenderer\"},{\"attributes\":{\"fill_alpha\":{\"value\":0.5},\"fill_color\":{\"value\":\"firebrick\"},\"line_alpha\":{\"value\":0.5},\"line_color\":{\"value\":\"firebrick\"},\"size\":{\"units\":\"screen\",\"value\":10},\"x\":{\"field\":\"x\"},\"y\":{\"field\":\"y\"}},\"id\":\"f9f0b32d-c3e1-4a68-bdc6-892f73ab4f26\",\"type\":\"Triangle\"},{\"attributes\":{\"below\":[{\"id\":\"bfc44582-94ef-4a0d-9b34-2c44f4a64175\",\"type\":\"LinearAxis\"}],\"left\":[{\"id\":\"a8c42731-623f-415d-8a83-26ad232e5d4c\",\"type\":\"LinearAxis\"}],\"plot_height\":250,\"plot_width\":250,\"renderers\":[{\"id\":\"bfc44582-94ef-4a0d-9b34-2c44f4a64175\",\"type\":\"LinearAxis\"},{\"id\":\"dff4f402-1e2e-4975-b22d-9a920a08a5bc\",\"type\":\"Grid\"},{\"id\":\"a8c42731-623f-415d-8a83-26ad232e5d4c\",\"type\":\"LinearAxis\"},{\"id\":\"15d1b153-92aa-4f08-a582-8c2b5406c637\",\"type\":\"Grid\"},{\"id\":\"3fbb9398-dccb-482f-a22c-dde53ee7f515\",\"type\":\"BoxAnnotation\"},{\"id\":\"3c2f567b-3834-4d5a-8ceb-998a9d318667\",\"type\":\"GlyphRenderer\"}],\"title\":null,\"toolbar\":{\"id\":\"cb4cfa73-2cf5-4a57-b6ec-97943fe5007a\",\"type\":\"Toolbar\"},\"x_range\":{\"id\":\"d1b877d5-482e-4bcc-9773-84fa5340cb3c\",\"type\":\"DataRange1d\"},\"x_scale\":{\"id\":\"a0f19b07-63ca-496d-bf4b-ddfcfe9da44e\",\"type\":\"LinearScale\"},\"y_range\":{\"id\":\"c4d10fef-5305-4222-a6f0-6f39307f08fe\",\"type\":\"DataRange1d\"},\"y_scale\":{\"id\":\"d6cb8c07-3bf7-4610-ae21-c54f7531f7f0\",\"type\":\"LinearScale\"}},\"id\":\"eaaa383e-3c89-408a-ae14-87639d6061b7\",\"subtype\":\"Figure\",\"type\":\"Plot\"},{\"attributes\":{\"bottom_units\":\"screen\",\"fill_alpha\":{\"value\":0.5},\"fill_color\":{\"value\":\"lightgrey\"},\"left_units\":\"screen\",\"level\":\"overlay\",\"line_alpha\":{\"value\":1.0},\"line_color\":{\"value\":\"black\"},\"line_dash\":[4,4],\"line_width\":{\"value\":2},\"plot\":null,\"render_mode\":\"css\",\"right_units\":\"screen\",\"top_units\":\"screen\"},\"id\":\"d7829199-0e6e-4739-ac2a-4ed49e90a5cb\",\"type\":\"BoxAnnotation\"},{\"attributes\":{},\"id\":\"2d0c17c3-95de-4094-adb6-18e7ec6fd63c\",\"type\":\"PanTool\"},{\"attributes\":{},\"id\":\"8d8a1d61-5f80-4490-bcdb-d0ff3c4db00c\",\"type\":\"HelpTool\"},{\"attributes\":{},\"id\":\"a3759e73-7980-4478-ab2f-d9c7f77921b9\",\"type\":\"WheelZoomTool\"},{\"attributes\":{\"overlay\":{\"id\":\"d7829199-0e6e-4739-ac2a-4ed49e90a5cb\",\"type\":\"BoxAnnotation\"}},\"id\":\"b75e7466-e213-4a12-b2de-aca215ae7c91\",\"type\":\"BoxZoomTool\"},{\"attributes\":{},\"id\":\"255493d6-7010-47ef-bd2c-6ac24b4a8b56\",\"type\":\"SaveTool\"},{\"attributes\":{},\"id\":\"f6abfee2-e42e-41f2-8627-f05103ec714b\",\"type\":\"BasicTickFormatter\"},{\"attributes\":{},\"id\":\"54576221-d9c8-4846-ad74-a4ac492c9be4\",\"type\":\"LinearScale\"},{\"attributes\":{\"callback\":null},\"id\":\"f742e1a9-fbf0-4321-8d1d-0a076b13fdec\",\"type\":\"DataRange1d\"},{\"attributes\":{},\"id\":\"c8366598-fa19-4b02-9b43-970952b18695\",\"type\":\"BasicTickFormatter\"},{\"attributes\":{\"below\":[{\"id\":\"8af05e4c-39fe-481e-9a82-df217de813de\",\"type\":\"LinearAxis\"}],\"left\":[{\"id\":\"7f01915c-f722-494f-b1a9-ef44784bf162\",\"type\":\"LinearAxis\"}],\"plot_height\":250,\"plot_width\":250,\"renderers\":[{\"id\":\"8af05e4c-39fe-481e-9a82-df217de813de\",\"type\":\"LinearAxis\"},{\"id\":\"526e6487-8c9b-4bd4-9e20-90072c81c6c4\",\"type\":\"Grid\"},{\"id\":\"7f01915c-f722-494f-b1a9-ef44784bf162\",\"type\":\"LinearAxis\"},{\"id\":\"85803fbf-999d-4e73-aac2-7781bbd42373\",\"type\":\"Grid\"},{\"id\":\"e1bbea47-7abd-4925-a89f-c68fc93dfd70\",\"type\":\"BoxAnnotation\"},{\"id\":\"4919b5d1-4394-4a0d-84c3-25626e4dca1d\",\"type\":\"GlyphRenderer\"}],\"title\":null,\"toolbar\":{\"id\":\"c2b9bb5b-12c1-4fd9-8ee2-8a2d57c95d9e\",\"type\":\"Toolbar\"},\"x_range\":{\"id\":\"0e1b4636-c1d0-48ea-9133-8a05c6b4ac46\",\"type\":\"DataRange1d\"},\"x_scale\":{\"id\":\"54576221-d9c8-4846-ad74-a4ac492c9be4\",\"type\":\"LinearScale\"},\"y_range\":{\"id\":\"f742e1a9-fbf0-4321-8d1d-0a076b13fdec\",\"type\":\"DataRange1d\"},\"y_scale\":{\"id\":\"f5443c9e-b970-48be-9185-122e94e41875\",\"type\":\"LinearScale\"}},\"id\":\"8313e308-a470-462f-aab5-88dce41c45ce\",\"subtype\":\"Figure\",\"type\":\"Plot\"},{\"attributes\":{\"active_drag\":\"auto\",\"active_inspect\":\"auto\",\"active_scroll\":\"auto\",\"active_tap\":\"auto\",\"tools\":[{\"id\":\"2bb7fbc4-9d46-47ba-941e-2f5bc036578c\",\"type\":\"PanTool\"},{\"id\":\"062ffb17-fdc7-4382-a5c5-6d43ba8adda0\",\"type\":\"WheelZoomTool\"},{\"id\":\"4c7a1cf0-085d-4202-b089-2771b881829b\",\"type\":\"BoxZoomTool\"},{\"id\":\"fc087e4a-2a46-4cb7-9fe7-dc3ba41512b7\",\"type\":\"SaveTool\"},{\"id\":\"09f1a1a8-2a63-4986-9ba1-faa0487ba03b\",\"type\":\"ResetTool\"},{\"id\":\"6d7f361f-fb19-4f7a-9f0e-b8109d62a26b\",\"type\":\"HelpTool\"}]},\"id\":\"cb4cfa73-2cf5-4a57-b6ec-97943fe5007a\",\"type\":\"Toolbar\"},{\"attributes\":{\"callback\":null},\"id\":\"c4d10fef-5305-4222-a6f0-6f39307f08fe\",\"type\":\"DataRange1d\"},{\"attributes\":{},\"id\":\"a0f19b07-63ca-496d-bf4b-ddfcfe9da44e\",\"type\":\"LinearScale\"},{\"attributes\":{\"callback\":null,\"column_names\":[\"x\",\"y\"],\"data\":{\"x\":[0,1,2,3,4,5,6,7,8,9,10],\"y\":[5,4,3,2,1,0,1,2,3,4,5]}},\"id\":\"1f93bfec-5ea1-439c-977d-a552fffcadb2\",\"type\":\"ColumnDataSource\"},{\"attributes\":{},\"id\":\"d6cb8c07-3bf7-4610-ae21-c54f7531f7f0\",\"type\":\"LinearScale\"},{\"attributes\":{\"fill_alpha\":{\"value\":0.1},\"fill_color\":{\"value\":\"#1f77b4\"},\"line_alpha\":{\"value\":0.1},\"line_color\":{\"value\":\"#1f77b4\"},\"size\":{\"units\":\"screen\",\"value\":10},\"x\":{\"field\":\"x\"},\"y\":{\"field\":\"y\"}},\"id\":\"5b2b549f-6e42-48fc-831c-8123d23f3a8a\",\"type\":\"Square\"},{\"attributes\":{\"callback\":null},\"id\":\"d1b877d5-482e-4bcc-9773-84fa5340cb3c\",\"type\":\"DataRange1d\"},{\"attributes\":{\"plot\":{\"id\":\"eaaa383e-3c89-408a-ae14-87639d6061b7\",\"subtype\":\"Figure\",\"type\":\"Plot\"},\"ticker\":{\"id\":\"14fd3560-6d29-4ec2-904d-c08d4020f1bf\",\"type\":\"BasicTicker\"}},\"id\":\"dff4f402-1e2e-4975-b22d-9a920a08a5bc\",\"type\":\"Grid\"},{\"attributes\":{\"formatter\":{\"id\":\"ae56f48a-7b1e-40cd-a767-7e9b3be976fc\",\"type\":\"BasicTickFormatter\"},\"plot\":{\"id\":\"eaaa383e-3c89-408a-ae14-87639d6061b7\",\"subtype\":\"Figure\",\"type\":\"Plot\"},\"ticker\":{\"id\":\"14fd3560-6d29-4ec2-904d-c08d4020f1bf\",\"type\":\"BasicTicker\"}},\"id\":\"bfc44582-94ef-4a0d-9b34-2c44f4a64175\",\"type\":\"LinearAxis\"},{\"attributes\":{},\"id\":\"14fd3560-6d29-4ec2-904d-c08d4020f1bf\",\"type\":\"BasicTicker\"},{\"attributes\":{\"formatter\":{\"id\":\"a1ea3ef7-3c6d-407e-95ce-5bbb51d49ff7\",\"type\":\"BasicTickFormatter\"},\"plot\":{\"id\":\"eaaa383e-3c89-408a-ae14-87639d6061b7\",\"subtype\":\"Figure\",\"type\":\"Plot\"},\"ticker\":{\"id\":\"36410462-cd1e-443d-ad93-cfe16f860ae1\",\"type\":\"BasicTicker\"}},\"id\":\"a8c42731-623f-415d-8a83-26ad232e5d4c\",\"type\":\"LinearAxis\"},{\"attributes\":{},\"id\":\"36410462-cd1e-443d-ad93-cfe16f860ae1\",\"type\":\"BasicTicker\"},{\"attributes\":{\"dimension\":1,\"plot\":{\"id\":\"eaaa383e-3c89-408a-ae14-87639d6061b7\",\"subtype\":\"Figure\",\"type\":\"Plot\"},\"ticker\":{\"id\":\"36410462-cd1e-443d-ad93-cfe16f860ae1\",\"type\":\"BasicTicker\"}},\"id\":\"15d1b153-92aa-4f08-a582-8c2b5406c637\",\"type\":\"Grid\"},{\"attributes\":{\"data_source\":{\"id\":\"1f93bfec-5ea1-439c-977d-a552fffcadb2\",\"type\":\"ColumnDataSource\"},\"glyph\":{\"id\":\"b60b1668-655e-4ca7-ba5a-5b4da85eae44\",\"type\":\"Square\"},\"hover_glyph\":null,\"muted_glyph\":null,\"nonselection_glyph\":{\"id\":\"5b2b549f-6e42-48fc-831c-8123d23f3a8a\",\"type\":\"Square\"},\"selection_glyph\":null,\"view\":{\"id\":\"691122a0-e5f1-4901-9660-f1f401eadf21\",\"type\":\"CDSView\"}},\"id\":\"3c2f567b-3834-4d5a-8ceb-998a9d318667\",\"type\":\"GlyphRenderer\"},{\"attributes\":{\"fill_alpha\":{\"value\":0.1},\"fill_color\":{\"value\":\"#1f77b4\"},\"line_alpha\":{\"value\":0.1},\"line_color\":{\"value\":\"#1f77b4\"},\"size\":{\"units\":\"screen\",\"value\":10},\"x\":{\"field\":\"x\"},\"y\":{\"field\":\"y\"}},\"id\":\"cbfedceb-6e48-4428-9c08-621072ef6c8f\",\"type\":\"Circle\"},{\"attributes\":{\"fill_alpha\":{\"value\":0.5},\"fill_color\":{\"value\":\"olive\"},\"line_alpha\":{\"value\":0.5},\"line_color\":{\"value\":\"olive\"},\"size\":{\"units\":\"screen\",\"value\":10},\"x\":{\"field\":\"x\"},\"y\":{\"field\":\"y\"}},\"id\":\"b60b1668-655e-4ca7-ba5a-5b4da85eae44\",\"type\":\"Square\"},{\"attributes\":{\"bottom_units\":\"screen\",\"fill_alpha\":{\"value\":0.5},\"fill_color\":{\"value\":\"lightgrey\"},\"left_units\":\"screen\",\"level\":\"overlay\",\"line_alpha\":{\"value\":1.0},\"line_color\":{\"value\":\"black\"},\"line_dash\":[4,4],\"line_width\":{\"value\":2},\"plot\":null,\"render_mode\":\"css\",\"right_units\":\"screen\",\"top_units\":\"screen\"},\"id\":\"3fbb9398-dccb-482f-a22c-dde53ee7f515\",\"type\":\"BoxAnnotation\"},{\"attributes\":{},\"id\":\"2bb7fbc4-9d46-47ba-941e-2f5bc036578c\",\"type\":\"PanTool\"},{\"attributes\":{},\"id\":\"a1ea3ef7-3c6d-407e-95ce-5bbb51d49ff7\",\"type\":\"BasicTickFormatter\"},{\"attributes\":{},\"id\":\"062ffb17-fdc7-4382-a5c5-6d43ba8adda0\",\"type\":\"WheelZoomTool\"},{\"attributes\":{\"overlay\":{\"id\":\"3fbb9398-dccb-482f-a22c-dde53ee7f515\",\"type\":\"BoxAnnotation\"}},\"id\":\"4c7a1cf0-085d-4202-b089-2771b881829b\",\"type\":\"BoxZoomTool\"},{\"attributes\":{},\"id\":\"b42112aa-0e5a-451b-a448-d799de75f892\",\"type\":\"ResetTool\"},{\"attributes\":{},\"id\":\"fc087e4a-2a46-4cb7-9fe7-dc3ba41512b7\",\"type\":\"SaveTool\"},{\"attributes\":{},\"id\":\"09f1a1a8-2a63-4986-9ba1-faa0487ba03b\",\"type\":\"ResetTool\"},{\"attributes\":{\"plot\":{\"id\":\"8313e308-a470-462f-aab5-88dce41c45ce\",\"subtype\":\"Figure\",\"type\":\"Plot\"},\"ticker\":{\"id\":\"cf4bbf3d-63c8-48b1-ae58-597df13b29cc\",\"type\":\"BasicTicker\"}},\"id\":\"526e6487-8c9b-4bd4-9e20-90072c81c6c4\",\"type\":\"Grid\"},{\"attributes\":{},\"id\":\"6d7f361f-fb19-4f7a-9f0e-b8109d62a26b\",\"type\":\"HelpTool\"},{\"attributes\":{\"source\":{\"id\":\"898273e3-199f-4461-b111-dd199b295870\",\"type\":\"ColumnDataSource\"}},\"id\":\"166035fe-730b-44f9-9601-bced4a15d767\",\"type\":\"CDSView\"},{\"attributes\":{},\"id\":\"ae56f48a-7b1e-40cd-a767-7e9b3be976fc\",\"type\":\"BasicTickFormatter\"},{\"attributes\":{},\"id\":\"f5443c9e-b970-48be-9185-122e94e41875\",\"type\":\"LinearScale\"},{\"attributes\":{\"formatter\":{\"id\":\"d80c8f66-3803-42a4-8928-0a0fdfb0fe38\",\"type\":\"BasicTickFormatter\"},\"plot\":{\"id\":\"8313e308-a470-462f-aab5-88dce41c45ce\",\"subtype\":\"Figure\",\"type\":\"Plot\"},\"ticker\":{\"id\":\"6714b1d2-0a96-4f5c-873c-68fb5211fa9d\",\"type\":\"BasicTicker\"}},\"id\":\"7f01915c-f722-494f-b1a9-ef44784bf162\",\"type\":\"LinearAxis\"},{\"attributes\":{\"formatter\":{\"id\":\"10503c8a-dc1f-4f6b-9a9a-d4660fdbed23\",\"type\":\"BasicTickFormatter\"},\"plot\":{\"id\":\"8313e308-a470-462f-aab5-88dce41c45ce\",\"subtype\":\"Figure\",\"type\":\"Plot\"},\"ticker\":{\"id\":\"cf4bbf3d-63c8-48b1-ae58-597df13b29cc\",\"type\":\"BasicTicker\"}},\"id\":\"8af05e4c-39fe-481e-9a82-df217de813de\",\"type\":\"LinearAxis\"},{\"attributes\":{\"fill_alpha\":{\"value\":0.5},\"fill_color\":{\"value\":\"navy\"},\"line_alpha\":{\"value\":0.5},\"line_color\":{\"value\":\"navy\"},\"size\":{\"units\":\"screen\",\"value\":10},\"x\":{\"field\":\"x\"},\"y\":{\"field\":\"y\"}},\"id\":\"fd7d576d-d583-4302-8c2d-ca3f89e37f98\",\"type\":\"Circle\"},{\"attributes\":{},\"id\":\"cf4bbf3d-63c8-48b1-ae58-597df13b29cc\",\"type\":\"BasicTicker\"},{\"attributes\":{},\"id\":\"6714b1d2-0a96-4f5c-873c-68fb5211fa9d\",\"type\":\"BasicTicker\"},{\"attributes\":{\"dimension\":1,\"plot\":{\"id\":\"8313e308-a470-462f-aab5-88dce41c45ce\",\"subtype\":\"Figure\",\"type\":\"Plot\"},\"ticker\":{\"id\":\"6714b1d2-0a96-4f5c-873c-68fb5211fa9d\",\"type\":\"BasicTicker\"}},\"id\":\"85803fbf-999d-4e73-aac2-7781bbd42373\",\"type\":\"Grid\"},{\"attributes\":{\"below\":[{\"id\":\"47ff3b04-0546-4b51-841c-cbac9f3ea68c\",\"type\":\"LinearAxis\"}],\"left\":[{\"id\":\"652ca8eb-fabe-44ff-9a77-e58d16c2dfd3\",\"type\":\"LinearAxis\"}],\"plot_height\":250,\"plot_width\":250,\"renderers\":[{\"id\":\"47ff3b04-0546-4b51-841c-cbac9f3ea68c\",\"type\":\"LinearAxis\"},{\"id\":\"a93f6e70-fbde-4973-9166-2c5b36dfdd7e\",\"type\":\"Grid\"},{\"id\":\"652ca8eb-fabe-44ff-9a77-e58d16c2dfd3\",\"type\":\"LinearAxis\"},{\"id\":\"fc33308d-13d3-4f83-86c8-49cae6de9a90\",\"type\":\"Grid\"},{\"id\":\"d7829199-0e6e-4739-ac2a-4ed49e90a5cb\",\"type\":\"BoxAnnotation\"},{\"id\":\"e6f07864-83f6-4428-acdb-e7e738baa56b\",\"type\":\"GlyphRenderer\"}],\"title\":null,\"toolbar\":{\"id\":\"f738991f-d747-47bc-91b5-2e93b9e0adf6\",\"type\":\"Toolbar\"},\"x_range\":{\"id\":\"8d6c0998-ee82-4e7d-b311-ce7bba032328\",\"type\":\"DataRange1d\"},\"x_scale\":{\"id\":\"00476ae7-187f-483f-b196-95364581baa3\",\"type\":\"LinearScale\"},\"y_range\":{\"id\":\"2c66af97-d457-42af-83c8-3b04dc70ff7a\",\"type\":\"DataRange1d\"},\"y_scale\":{\"id\":\"956403be-2d58-418b-92f6-2e612cb01bc4\",\"type\":\"LinearScale\"}},\"id\":\"aa9ef112-b76e-4178-8b15-0794aa09cea3\",\"subtype\":\"Figure\",\"type\":\"Plot\"}],\"root_ids\":[\"e1d397cf-ef94-4f3c-819b-0080596b4012\"]},\"title\":\"Bokeh Application\",\"version\":\"0.12.13\"}};\n",
       "  var render_items = [{\"docid\":\"a8c80b0c-a3cf-4e64-8086-ff7b30e5ed94\",\"elementid\":\"4f4a4a0d-91ea-4a9b-b7c3-cb1ece287e42\",\"modelid\":\"e1d397cf-ef94-4f3c-819b-0080596b4012\"}];\n",
       "  root.Bokeh.embed.embed_items_notebook(docs_json, render_items);\n",
       "\n",
       "  }\n",
       "  if (root.Bokeh !== undefined) {\n",
       "    embed_document(root);\n",
       "  } else {\n",
       "    var attempts = 0;\n",
       "    var timer = setInterval(function(root) {\n",
       "      if (root.Bokeh !== undefined) {\n",
       "        embed_document(root);\n",
       "        clearInterval(timer);\n",
       "      }\n",
       "      attempts++;\n",
       "      if (attempts > 100) {\n",
       "        console.log(\"Bokeh: ERROR: Unable to run BokehJS code because BokehJS library is missing\")\n",
       "        clearInterval(timer);\n",
       "      }\n",
       "    }, 10, root)\n",
       "  }\n",
       "})(window);"
      ],
      "application/vnd.bokehjs_exec.v0+json": ""
     },
     "metadata": {
      "application/vnd.bokehjs_exec.v0+json": {
       "id": "e1d397cf-ef94-4f3c-819b-0080596b4012"
      }
     },
     "output_type": "display_data"
    }
   ],
   "source": [
    "from bokeh.layouts import row\n",
    "show(row(s1, s2, s3))"
   ]
  },
  {
   "cell_type": "markdown",
   "metadata": {},
   "source": [
    "#### Column"
   ]
  },
  {
   "cell_type": "code",
   "execution_count": 3,
   "metadata": {},
   "outputs": [
    {
     "data": {
      "text/html": [
       "\n",
       "<div class=\"bk-root\">\n",
       "    <div class=\"bk-plotdiv\" id=\"c3b48b05-57b3-43e5-9f43-00ac1036fd95\"></div>\n",
       "</div>"
      ]
     },
     "metadata": {},
     "output_type": "display_data"
    },
    {
     "data": {
      "application/javascript": [
       "(function(root) {\n",
       "  function embed_document(root) {\n",
       "    \n",
       "  var docs_json = {\"77549cd3-fa22-4a32-bfd3-fcace18e1639\":{\"roots\":{\"references\":[{\"attributes\":{\"bottom_units\":\"screen\",\"fill_alpha\":{\"value\":0.5},\"fill_color\":{\"value\":\"lightgrey\"},\"left_units\":\"screen\",\"level\":\"overlay\",\"line_alpha\":{\"value\":1.0},\"line_color\":{\"value\":\"black\"},\"line_dash\":[4,4],\"line_width\":{\"value\":2},\"plot\":null,\"render_mode\":\"css\",\"right_units\":\"screen\",\"top_units\":\"screen\"},\"id\":\"e1bbea47-7abd-4925-a89f-c68fc93dfd70\",\"type\":\"BoxAnnotation\"},{\"attributes\":{},\"id\":\"b05014c3-0d53-48fd-b4d5-0ae6d532ac0a\",\"type\":\"PanTool\"},{\"attributes\":{\"data_source\":{\"id\":\"898273e3-199f-4461-b111-dd199b295870\",\"type\":\"ColumnDataSource\"},\"glyph\":{\"id\":\"fd7d576d-d583-4302-8c2d-ca3f89e37f98\",\"type\":\"Circle\"},\"hover_glyph\":null,\"muted_glyph\":null,\"nonselection_glyph\":{\"id\":\"cbfedceb-6e48-4428-9c08-621072ef6c8f\",\"type\":\"Circle\"},\"selection_glyph\":null,\"view\":{\"id\":\"166035fe-730b-44f9-9601-bced4a15d767\",\"type\":\"CDSView\"}},\"id\":\"4919b5d1-4394-4a0d-84c3-25626e4dca1d\",\"type\":\"GlyphRenderer\"},{\"attributes\":{},\"id\":\"21d51d16-c73b-45d7-bd20-dc62e6ac6610\",\"type\":\"WheelZoomTool\"},{\"attributes\":{\"overlay\":{\"id\":\"e1bbea47-7abd-4925-a89f-c68fc93dfd70\",\"type\":\"BoxAnnotation\"}},\"id\":\"9879ceff-c12d-492b-a7ed-8b385d684473\",\"type\":\"BoxZoomTool\"},{\"attributes\":{},\"id\":\"d80c8f66-3803-42a4-8928-0a0fdfb0fe38\",\"type\":\"BasicTickFormatter\"},{\"attributes\":{},\"id\":\"0d4042b7-741a-4c8b-a597-daeb9073a150\",\"type\":\"SaveTool\"},{\"attributes\":{},\"id\":\"6c2eed89-9e62-45c5-8431-30d520582ac1\",\"type\":\"ResetTool\"},{\"attributes\":{},\"id\":\"ae428d8f-1716-46e4-ad62-c47e94662984\",\"type\":\"HelpTool\"},{\"attributes\":{\"source\":{\"id\":\"1f93bfec-5ea1-439c-977d-a552fffcadb2\",\"type\":\"ColumnDataSource\"}},\"id\":\"691122a0-e5f1-4901-9660-f1f401eadf21\",\"type\":\"CDSView\"},{\"attributes\":{},\"id\":\"10503c8a-dc1f-4f6b-9a9a-d4660fdbed23\",\"type\":\"BasicTickFormatter\"},{\"attributes\":{\"active_drag\":\"auto\",\"active_inspect\":\"auto\",\"active_scroll\":\"auto\",\"active_tap\":\"auto\",\"tools\":[{\"id\":\"2d0c17c3-95de-4094-adb6-18e7ec6fd63c\",\"type\":\"PanTool\"},{\"id\":\"a3759e73-7980-4478-ab2f-d9c7f77921b9\",\"type\":\"WheelZoomTool\"},{\"id\":\"b75e7466-e213-4a12-b2de-aca215ae7c91\",\"type\":\"BoxZoomTool\"},{\"id\":\"255493d6-7010-47ef-bd2c-6ac24b4a8b56\",\"type\":\"SaveTool\"},{\"id\":\"b42112aa-0e5a-451b-a448-d799de75f892\",\"type\":\"ResetTool\"},{\"id\":\"8d8a1d61-5f80-4490-bcdb-d0ff3c4db00c\",\"type\":\"HelpTool\"}]},\"id\":\"f738991f-d747-47bc-91b5-2e93b9e0adf6\",\"type\":\"Toolbar\"},{\"attributes\":{\"source\":{\"id\":\"c097db64-2b8d-4d91-b84d-04a26c1ae327\",\"type\":\"ColumnDataSource\"}},\"id\":\"a6843a23-e919-4e07-9cb6-3c58bdd7fabd\",\"type\":\"CDSView\"},{\"attributes\":{\"fill_alpha\":{\"value\":0.1},\"fill_color\":{\"value\":\"#1f77b4\"},\"line_alpha\":{\"value\":0.1},\"line_color\":{\"value\":\"#1f77b4\"},\"size\":{\"units\":\"screen\",\"value\":10},\"x\":{\"field\":\"x\"},\"y\":{\"field\":\"y\"}},\"id\":\"53e9b6f6-77d1-4a2a-b60a-eeb2ae13fe6a\",\"type\":\"Triangle\"},{\"attributes\":{\"active_drag\":\"auto\",\"active_inspect\":\"auto\",\"active_scroll\":\"auto\",\"active_tap\":\"auto\",\"tools\":[{\"id\":\"b05014c3-0d53-48fd-b4d5-0ae6d532ac0a\",\"type\":\"PanTool\"},{\"id\":\"21d51d16-c73b-45d7-bd20-dc62e6ac6610\",\"type\":\"WheelZoomTool\"},{\"id\":\"9879ceff-c12d-492b-a7ed-8b385d684473\",\"type\":\"BoxZoomTool\"},{\"id\":\"0d4042b7-741a-4c8b-a597-daeb9073a150\",\"type\":\"SaveTool\"},{\"id\":\"6c2eed89-9e62-45c5-8431-30d520582ac1\",\"type\":\"ResetTool\"},{\"id\":\"ae428d8f-1716-46e4-ad62-c47e94662984\",\"type\":\"HelpTool\"}]},\"id\":\"c2b9bb5b-12c1-4fd9-8ee2-8a2d57c95d9e\",\"type\":\"Toolbar\"},{\"attributes\":{},\"id\":\"956403be-2d58-418b-92f6-2e612cb01bc4\",\"type\":\"LinearScale\"},{\"attributes\":{\"callback\":null},\"id\":\"2c66af97-d457-42af-83c8-3b04dc70ff7a\",\"type\":\"DataRange1d\"},{\"attributes\":{\"callback\":null,\"column_names\":[\"x\",\"y\"],\"data\":{\"x\":[0,1,2,3,4,5,6,7,8,9,10],\"y\":[0,1,2,3,4,5,6,7,8,9,10]}},\"id\":\"898273e3-199f-4461-b111-dd199b295870\",\"type\":\"ColumnDataSource\"},{\"attributes\":{\"callback\":null},\"id\":\"8d6c0998-ee82-4e7d-b311-ce7bba032328\",\"type\":\"DataRange1d\"},{\"attributes\":{\"callback\":null,\"column_names\":[\"x\",\"y\"],\"data\":{\"x\":[0,1,2,3,4,5,6,7,8,9,10],\"y\":[10,9,8,7,6,5,4,3,2,1,0]}},\"id\":\"c097db64-2b8d-4d91-b84d-04a26c1ae327\",\"type\":\"ColumnDataSource\"},{\"attributes\":{},\"id\":\"00476ae7-187f-483f-b196-95364581baa3\",\"type\":\"LinearScale\"},{\"attributes\":{\"plot\":{\"id\":\"aa9ef112-b76e-4178-8b15-0794aa09cea3\",\"subtype\":\"Figure\",\"type\":\"Plot\"},\"ticker\":{\"id\":\"9c83d71d-085e-4af9-8713-0fb13cdd6888\",\"type\":\"BasicTicker\"}},\"id\":\"a93f6e70-fbde-4973-9166-2c5b36dfdd7e\",\"type\":\"Grid\"},{\"attributes\":{\"callback\":null},\"id\":\"0e1b4636-c1d0-48ea-9133-8a05c6b4ac46\",\"type\":\"DataRange1d\"},{\"attributes\":{\"formatter\":{\"id\":\"c8366598-fa19-4b02-9b43-970952b18695\",\"type\":\"BasicTickFormatter\"},\"plot\":{\"id\":\"aa9ef112-b76e-4178-8b15-0794aa09cea3\",\"subtype\":\"Figure\",\"type\":\"Plot\"},\"ticker\":{\"id\":\"9c83d71d-085e-4af9-8713-0fb13cdd6888\",\"type\":\"BasicTicker\"}},\"id\":\"47ff3b04-0546-4b51-841c-cbac9f3ea68c\",\"type\":\"LinearAxis\"},{\"attributes\":{},\"id\":\"9c83d71d-085e-4af9-8713-0fb13cdd6888\",\"type\":\"BasicTicker\"},{\"attributes\":{\"children\":[{\"id\":\"8313e308-a470-462f-aab5-88dce41c45ce\",\"subtype\":\"Figure\",\"type\":\"Plot\"},{\"id\":\"aa9ef112-b76e-4178-8b15-0794aa09cea3\",\"subtype\":\"Figure\",\"type\":\"Plot\"},{\"id\":\"eaaa383e-3c89-408a-ae14-87639d6061b7\",\"subtype\":\"Figure\",\"type\":\"Plot\"}]},\"id\":\"aefa24e2-2bfb-44ae-ab74-3baf5f20f4f9\",\"type\":\"Column\"},{\"attributes\":{\"formatter\":{\"id\":\"f6abfee2-e42e-41f2-8627-f05103ec714b\",\"type\":\"BasicTickFormatter\"},\"plot\":{\"id\":\"aa9ef112-b76e-4178-8b15-0794aa09cea3\",\"subtype\":\"Figure\",\"type\":\"Plot\"},\"ticker\":{\"id\":\"6b3f210a-18a3-4680-965b-1b224db6c192\",\"type\":\"BasicTicker\"}},\"id\":\"652ca8eb-fabe-44ff-9a77-e58d16c2dfd3\",\"type\":\"LinearAxis\"},{\"attributes\":{},\"id\":\"6b3f210a-18a3-4680-965b-1b224db6c192\",\"type\":\"BasicTicker\"},{\"attributes\":{\"dimension\":1,\"plot\":{\"id\":\"aa9ef112-b76e-4178-8b15-0794aa09cea3\",\"subtype\":\"Figure\",\"type\":\"Plot\"},\"ticker\":{\"id\":\"6b3f210a-18a3-4680-965b-1b224db6c192\",\"type\":\"BasicTicker\"}},\"id\":\"fc33308d-13d3-4f83-86c8-49cae6de9a90\",\"type\":\"Grid\"},{\"attributes\":{\"data_source\":{\"id\":\"c097db64-2b8d-4d91-b84d-04a26c1ae327\",\"type\":\"ColumnDataSource\"},\"glyph\":{\"id\":\"f9f0b32d-c3e1-4a68-bdc6-892f73ab4f26\",\"type\":\"Triangle\"},\"hover_glyph\":null,\"muted_glyph\":null,\"nonselection_glyph\":{\"id\":\"53e9b6f6-77d1-4a2a-b60a-eeb2ae13fe6a\",\"type\":\"Triangle\"},\"selection_glyph\":null,\"view\":{\"id\":\"a6843a23-e919-4e07-9cb6-3c58bdd7fabd\",\"type\":\"CDSView\"}},\"id\":\"e6f07864-83f6-4428-acdb-e7e738baa56b\",\"type\":\"GlyphRenderer\"},{\"attributes\":{\"fill_alpha\":{\"value\":0.5},\"fill_color\":{\"value\":\"firebrick\"},\"line_alpha\":{\"value\":0.5},\"line_color\":{\"value\":\"firebrick\"},\"size\":{\"units\":\"screen\",\"value\":10},\"x\":{\"field\":\"x\"},\"y\":{\"field\":\"y\"}},\"id\":\"f9f0b32d-c3e1-4a68-bdc6-892f73ab4f26\",\"type\":\"Triangle\"},{\"attributes\":{\"below\":[{\"id\":\"bfc44582-94ef-4a0d-9b34-2c44f4a64175\",\"type\":\"LinearAxis\"}],\"left\":[{\"id\":\"a8c42731-623f-415d-8a83-26ad232e5d4c\",\"type\":\"LinearAxis\"}],\"plot_height\":250,\"plot_width\":250,\"renderers\":[{\"id\":\"bfc44582-94ef-4a0d-9b34-2c44f4a64175\",\"type\":\"LinearAxis\"},{\"id\":\"dff4f402-1e2e-4975-b22d-9a920a08a5bc\",\"type\":\"Grid\"},{\"id\":\"a8c42731-623f-415d-8a83-26ad232e5d4c\",\"type\":\"LinearAxis\"},{\"id\":\"15d1b153-92aa-4f08-a582-8c2b5406c637\",\"type\":\"Grid\"},{\"id\":\"3fbb9398-dccb-482f-a22c-dde53ee7f515\",\"type\":\"BoxAnnotation\"},{\"id\":\"3c2f567b-3834-4d5a-8ceb-998a9d318667\",\"type\":\"GlyphRenderer\"}],\"title\":null,\"toolbar\":{\"id\":\"cb4cfa73-2cf5-4a57-b6ec-97943fe5007a\",\"type\":\"Toolbar\"},\"x_range\":{\"id\":\"d1b877d5-482e-4bcc-9773-84fa5340cb3c\",\"type\":\"DataRange1d\"},\"x_scale\":{\"id\":\"a0f19b07-63ca-496d-bf4b-ddfcfe9da44e\",\"type\":\"LinearScale\"},\"y_range\":{\"id\":\"c4d10fef-5305-4222-a6f0-6f39307f08fe\",\"type\":\"DataRange1d\"},\"y_scale\":{\"id\":\"d6cb8c07-3bf7-4610-ae21-c54f7531f7f0\",\"type\":\"LinearScale\"}},\"id\":\"eaaa383e-3c89-408a-ae14-87639d6061b7\",\"subtype\":\"Figure\",\"type\":\"Plot\"},{\"attributes\":{\"bottom_units\":\"screen\",\"fill_alpha\":{\"value\":0.5},\"fill_color\":{\"value\":\"lightgrey\"},\"left_units\":\"screen\",\"level\":\"overlay\",\"line_alpha\":{\"value\":1.0},\"line_color\":{\"value\":\"black\"},\"line_dash\":[4,4],\"line_width\":{\"value\":2},\"plot\":null,\"render_mode\":\"css\",\"right_units\":\"screen\",\"top_units\":\"screen\"},\"id\":\"d7829199-0e6e-4739-ac2a-4ed49e90a5cb\",\"type\":\"BoxAnnotation\"},{\"attributes\":{},\"id\":\"2d0c17c3-95de-4094-adb6-18e7ec6fd63c\",\"type\":\"PanTool\"},{\"attributes\":{},\"id\":\"8d8a1d61-5f80-4490-bcdb-d0ff3c4db00c\",\"type\":\"HelpTool\"},{\"attributes\":{},\"id\":\"a3759e73-7980-4478-ab2f-d9c7f77921b9\",\"type\":\"WheelZoomTool\"},{\"attributes\":{\"overlay\":{\"id\":\"d7829199-0e6e-4739-ac2a-4ed49e90a5cb\",\"type\":\"BoxAnnotation\"}},\"id\":\"b75e7466-e213-4a12-b2de-aca215ae7c91\",\"type\":\"BoxZoomTool\"},{\"attributes\":{},\"id\":\"255493d6-7010-47ef-bd2c-6ac24b4a8b56\",\"type\":\"SaveTool\"},{\"attributes\":{},\"id\":\"f6abfee2-e42e-41f2-8627-f05103ec714b\",\"type\":\"BasicTickFormatter\"},{\"attributes\":{},\"id\":\"54576221-d9c8-4846-ad74-a4ac492c9be4\",\"type\":\"LinearScale\"},{\"attributes\":{\"callback\":null},\"id\":\"f742e1a9-fbf0-4321-8d1d-0a076b13fdec\",\"type\":\"DataRange1d\"},{\"attributes\":{},\"id\":\"c8366598-fa19-4b02-9b43-970952b18695\",\"type\":\"BasicTickFormatter\"},{\"attributes\":{\"below\":[{\"id\":\"8af05e4c-39fe-481e-9a82-df217de813de\",\"type\":\"LinearAxis\"}],\"left\":[{\"id\":\"7f01915c-f722-494f-b1a9-ef44784bf162\",\"type\":\"LinearAxis\"}],\"plot_height\":250,\"plot_width\":250,\"renderers\":[{\"id\":\"8af05e4c-39fe-481e-9a82-df217de813de\",\"type\":\"LinearAxis\"},{\"id\":\"526e6487-8c9b-4bd4-9e20-90072c81c6c4\",\"type\":\"Grid\"},{\"id\":\"7f01915c-f722-494f-b1a9-ef44784bf162\",\"type\":\"LinearAxis\"},{\"id\":\"85803fbf-999d-4e73-aac2-7781bbd42373\",\"type\":\"Grid\"},{\"id\":\"e1bbea47-7abd-4925-a89f-c68fc93dfd70\",\"type\":\"BoxAnnotation\"},{\"id\":\"4919b5d1-4394-4a0d-84c3-25626e4dca1d\",\"type\":\"GlyphRenderer\"}],\"title\":null,\"toolbar\":{\"id\":\"c2b9bb5b-12c1-4fd9-8ee2-8a2d57c95d9e\",\"type\":\"Toolbar\"},\"x_range\":{\"id\":\"0e1b4636-c1d0-48ea-9133-8a05c6b4ac46\",\"type\":\"DataRange1d\"},\"x_scale\":{\"id\":\"54576221-d9c8-4846-ad74-a4ac492c9be4\",\"type\":\"LinearScale\"},\"y_range\":{\"id\":\"f742e1a9-fbf0-4321-8d1d-0a076b13fdec\",\"type\":\"DataRange1d\"},\"y_scale\":{\"id\":\"f5443c9e-b970-48be-9185-122e94e41875\",\"type\":\"LinearScale\"}},\"id\":\"8313e308-a470-462f-aab5-88dce41c45ce\",\"subtype\":\"Figure\",\"type\":\"Plot\"},{\"attributes\":{\"active_drag\":\"auto\",\"active_inspect\":\"auto\",\"active_scroll\":\"auto\",\"active_tap\":\"auto\",\"tools\":[{\"id\":\"2bb7fbc4-9d46-47ba-941e-2f5bc036578c\",\"type\":\"PanTool\"},{\"id\":\"062ffb17-fdc7-4382-a5c5-6d43ba8adda0\",\"type\":\"WheelZoomTool\"},{\"id\":\"4c7a1cf0-085d-4202-b089-2771b881829b\",\"type\":\"BoxZoomTool\"},{\"id\":\"fc087e4a-2a46-4cb7-9fe7-dc3ba41512b7\",\"type\":\"SaveTool\"},{\"id\":\"09f1a1a8-2a63-4986-9ba1-faa0487ba03b\",\"type\":\"ResetTool\"},{\"id\":\"6d7f361f-fb19-4f7a-9f0e-b8109d62a26b\",\"type\":\"HelpTool\"}]},\"id\":\"cb4cfa73-2cf5-4a57-b6ec-97943fe5007a\",\"type\":\"Toolbar\"},{\"attributes\":{\"callback\":null},\"id\":\"c4d10fef-5305-4222-a6f0-6f39307f08fe\",\"type\":\"DataRange1d\"},{\"attributes\":{},\"id\":\"a0f19b07-63ca-496d-bf4b-ddfcfe9da44e\",\"type\":\"LinearScale\"},{\"attributes\":{\"callback\":null,\"column_names\":[\"x\",\"y\"],\"data\":{\"x\":[0,1,2,3,4,5,6,7,8,9,10],\"y\":[5,4,3,2,1,0,1,2,3,4,5]}},\"id\":\"1f93bfec-5ea1-439c-977d-a552fffcadb2\",\"type\":\"ColumnDataSource\"},{\"attributes\":{},\"id\":\"d6cb8c07-3bf7-4610-ae21-c54f7531f7f0\",\"type\":\"LinearScale\"},{\"attributes\":{\"fill_alpha\":{\"value\":0.1},\"fill_color\":{\"value\":\"#1f77b4\"},\"line_alpha\":{\"value\":0.1},\"line_color\":{\"value\":\"#1f77b4\"},\"size\":{\"units\":\"screen\",\"value\":10},\"x\":{\"field\":\"x\"},\"y\":{\"field\":\"y\"}},\"id\":\"5b2b549f-6e42-48fc-831c-8123d23f3a8a\",\"type\":\"Square\"},{\"attributes\":{\"callback\":null},\"id\":\"d1b877d5-482e-4bcc-9773-84fa5340cb3c\",\"type\":\"DataRange1d\"},{\"attributes\":{\"plot\":{\"id\":\"eaaa383e-3c89-408a-ae14-87639d6061b7\",\"subtype\":\"Figure\",\"type\":\"Plot\"},\"ticker\":{\"id\":\"14fd3560-6d29-4ec2-904d-c08d4020f1bf\",\"type\":\"BasicTicker\"}},\"id\":\"dff4f402-1e2e-4975-b22d-9a920a08a5bc\",\"type\":\"Grid\"},{\"attributes\":{\"formatter\":{\"id\":\"ae56f48a-7b1e-40cd-a767-7e9b3be976fc\",\"type\":\"BasicTickFormatter\"},\"plot\":{\"id\":\"eaaa383e-3c89-408a-ae14-87639d6061b7\",\"subtype\":\"Figure\",\"type\":\"Plot\"},\"ticker\":{\"id\":\"14fd3560-6d29-4ec2-904d-c08d4020f1bf\",\"type\":\"BasicTicker\"}},\"id\":\"bfc44582-94ef-4a0d-9b34-2c44f4a64175\",\"type\":\"LinearAxis\"},{\"attributes\":{},\"id\":\"14fd3560-6d29-4ec2-904d-c08d4020f1bf\",\"type\":\"BasicTicker\"},{\"attributes\":{\"formatter\":{\"id\":\"a1ea3ef7-3c6d-407e-95ce-5bbb51d49ff7\",\"type\":\"BasicTickFormatter\"},\"plot\":{\"id\":\"eaaa383e-3c89-408a-ae14-87639d6061b7\",\"subtype\":\"Figure\",\"type\":\"Plot\"},\"ticker\":{\"id\":\"36410462-cd1e-443d-ad93-cfe16f860ae1\",\"type\":\"BasicTicker\"}},\"id\":\"a8c42731-623f-415d-8a83-26ad232e5d4c\",\"type\":\"LinearAxis\"},{\"attributes\":{},\"id\":\"36410462-cd1e-443d-ad93-cfe16f860ae1\",\"type\":\"BasicTicker\"},{\"attributes\":{\"dimension\":1,\"plot\":{\"id\":\"eaaa383e-3c89-408a-ae14-87639d6061b7\",\"subtype\":\"Figure\",\"type\":\"Plot\"},\"ticker\":{\"id\":\"36410462-cd1e-443d-ad93-cfe16f860ae1\",\"type\":\"BasicTicker\"}},\"id\":\"15d1b153-92aa-4f08-a582-8c2b5406c637\",\"type\":\"Grid\"},{\"attributes\":{\"data_source\":{\"id\":\"1f93bfec-5ea1-439c-977d-a552fffcadb2\",\"type\":\"ColumnDataSource\"},\"glyph\":{\"id\":\"b60b1668-655e-4ca7-ba5a-5b4da85eae44\",\"type\":\"Square\"},\"hover_glyph\":null,\"muted_glyph\":null,\"nonselection_glyph\":{\"id\":\"5b2b549f-6e42-48fc-831c-8123d23f3a8a\",\"type\":\"Square\"},\"selection_glyph\":null,\"view\":{\"id\":\"691122a0-e5f1-4901-9660-f1f401eadf21\",\"type\":\"CDSView\"}},\"id\":\"3c2f567b-3834-4d5a-8ceb-998a9d318667\",\"type\":\"GlyphRenderer\"},{\"attributes\":{\"fill_alpha\":{\"value\":0.1},\"fill_color\":{\"value\":\"#1f77b4\"},\"line_alpha\":{\"value\":0.1},\"line_color\":{\"value\":\"#1f77b4\"},\"size\":{\"units\":\"screen\",\"value\":10},\"x\":{\"field\":\"x\"},\"y\":{\"field\":\"y\"}},\"id\":\"cbfedceb-6e48-4428-9c08-621072ef6c8f\",\"type\":\"Circle\"},{\"attributes\":{\"fill_alpha\":{\"value\":0.5},\"fill_color\":{\"value\":\"olive\"},\"line_alpha\":{\"value\":0.5},\"line_color\":{\"value\":\"olive\"},\"size\":{\"units\":\"screen\",\"value\":10},\"x\":{\"field\":\"x\"},\"y\":{\"field\":\"y\"}},\"id\":\"b60b1668-655e-4ca7-ba5a-5b4da85eae44\",\"type\":\"Square\"},{\"attributes\":{\"bottom_units\":\"screen\",\"fill_alpha\":{\"value\":0.5},\"fill_color\":{\"value\":\"lightgrey\"},\"left_units\":\"screen\",\"level\":\"overlay\",\"line_alpha\":{\"value\":1.0},\"line_color\":{\"value\":\"black\"},\"line_dash\":[4,4],\"line_width\":{\"value\":2},\"plot\":null,\"render_mode\":\"css\",\"right_units\":\"screen\",\"top_units\":\"screen\"},\"id\":\"3fbb9398-dccb-482f-a22c-dde53ee7f515\",\"type\":\"BoxAnnotation\"},{\"attributes\":{},\"id\":\"2bb7fbc4-9d46-47ba-941e-2f5bc036578c\",\"type\":\"PanTool\"},{\"attributes\":{},\"id\":\"a1ea3ef7-3c6d-407e-95ce-5bbb51d49ff7\",\"type\":\"BasicTickFormatter\"},{\"attributes\":{},\"id\":\"062ffb17-fdc7-4382-a5c5-6d43ba8adda0\",\"type\":\"WheelZoomTool\"},{\"attributes\":{\"overlay\":{\"id\":\"3fbb9398-dccb-482f-a22c-dde53ee7f515\",\"type\":\"BoxAnnotation\"}},\"id\":\"4c7a1cf0-085d-4202-b089-2771b881829b\",\"type\":\"BoxZoomTool\"},{\"attributes\":{},\"id\":\"b42112aa-0e5a-451b-a448-d799de75f892\",\"type\":\"ResetTool\"},{\"attributes\":{},\"id\":\"fc087e4a-2a46-4cb7-9fe7-dc3ba41512b7\",\"type\":\"SaveTool\"},{\"attributes\":{},\"id\":\"09f1a1a8-2a63-4986-9ba1-faa0487ba03b\",\"type\":\"ResetTool\"},{\"attributes\":{\"plot\":{\"id\":\"8313e308-a470-462f-aab5-88dce41c45ce\",\"subtype\":\"Figure\",\"type\":\"Plot\"},\"ticker\":{\"id\":\"cf4bbf3d-63c8-48b1-ae58-597df13b29cc\",\"type\":\"BasicTicker\"}},\"id\":\"526e6487-8c9b-4bd4-9e20-90072c81c6c4\",\"type\":\"Grid\"},{\"attributes\":{},\"id\":\"6d7f361f-fb19-4f7a-9f0e-b8109d62a26b\",\"type\":\"HelpTool\"},{\"attributes\":{\"source\":{\"id\":\"898273e3-199f-4461-b111-dd199b295870\",\"type\":\"ColumnDataSource\"}},\"id\":\"166035fe-730b-44f9-9601-bced4a15d767\",\"type\":\"CDSView\"},{\"attributes\":{},\"id\":\"ae56f48a-7b1e-40cd-a767-7e9b3be976fc\",\"type\":\"BasicTickFormatter\"},{\"attributes\":{},\"id\":\"f5443c9e-b970-48be-9185-122e94e41875\",\"type\":\"LinearScale\"},{\"attributes\":{\"formatter\":{\"id\":\"d80c8f66-3803-42a4-8928-0a0fdfb0fe38\",\"type\":\"BasicTickFormatter\"},\"plot\":{\"id\":\"8313e308-a470-462f-aab5-88dce41c45ce\",\"subtype\":\"Figure\",\"type\":\"Plot\"},\"ticker\":{\"id\":\"6714b1d2-0a96-4f5c-873c-68fb5211fa9d\",\"type\":\"BasicTicker\"}},\"id\":\"7f01915c-f722-494f-b1a9-ef44784bf162\",\"type\":\"LinearAxis\"},{\"attributes\":{\"formatter\":{\"id\":\"10503c8a-dc1f-4f6b-9a9a-d4660fdbed23\",\"type\":\"BasicTickFormatter\"},\"plot\":{\"id\":\"8313e308-a470-462f-aab5-88dce41c45ce\",\"subtype\":\"Figure\",\"type\":\"Plot\"},\"ticker\":{\"id\":\"cf4bbf3d-63c8-48b1-ae58-597df13b29cc\",\"type\":\"BasicTicker\"}},\"id\":\"8af05e4c-39fe-481e-9a82-df217de813de\",\"type\":\"LinearAxis\"},{\"attributes\":{\"fill_alpha\":{\"value\":0.5},\"fill_color\":{\"value\":\"navy\"},\"line_alpha\":{\"value\":0.5},\"line_color\":{\"value\":\"navy\"},\"size\":{\"units\":\"screen\",\"value\":10},\"x\":{\"field\":\"x\"},\"y\":{\"field\":\"y\"}},\"id\":\"fd7d576d-d583-4302-8c2d-ca3f89e37f98\",\"type\":\"Circle\"},{\"attributes\":{},\"id\":\"cf4bbf3d-63c8-48b1-ae58-597df13b29cc\",\"type\":\"BasicTicker\"},{\"attributes\":{},\"id\":\"6714b1d2-0a96-4f5c-873c-68fb5211fa9d\",\"type\":\"BasicTicker\"},{\"attributes\":{\"dimension\":1,\"plot\":{\"id\":\"8313e308-a470-462f-aab5-88dce41c45ce\",\"subtype\":\"Figure\",\"type\":\"Plot\"},\"ticker\":{\"id\":\"6714b1d2-0a96-4f5c-873c-68fb5211fa9d\",\"type\":\"BasicTicker\"}},\"id\":\"85803fbf-999d-4e73-aac2-7781bbd42373\",\"type\":\"Grid\"},{\"attributes\":{\"below\":[{\"id\":\"47ff3b04-0546-4b51-841c-cbac9f3ea68c\",\"type\":\"LinearAxis\"}],\"left\":[{\"id\":\"652ca8eb-fabe-44ff-9a77-e58d16c2dfd3\",\"type\":\"LinearAxis\"}],\"plot_height\":250,\"plot_width\":250,\"renderers\":[{\"id\":\"47ff3b04-0546-4b51-841c-cbac9f3ea68c\",\"type\":\"LinearAxis\"},{\"id\":\"a93f6e70-fbde-4973-9166-2c5b36dfdd7e\",\"type\":\"Grid\"},{\"id\":\"652ca8eb-fabe-44ff-9a77-e58d16c2dfd3\",\"type\":\"LinearAxis\"},{\"id\":\"fc33308d-13d3-4f83-86c8-49cae6de9a90\",\"type\":\"Grid\"},{\"id\":\"d7829199-0e6e-4739-ac2a-4ed49e90a5cb\",\"type\":\"BoxAnnotation\"},{\"id\":\"e6f07864-83f6-4428-acdb-e7e738baa56b\",\"type\":\"GlyphRenderer\"}],\"title\":null,\"toolbar\":{\"id\":\"f738991f-d747-47bc-91b5-2e93b9e0adf6\",\"type\":\"Toolbar\"},\"x_range\":{\"id\":\"8d6c0998-ee82-4e7d-b311-ce7bba032328\",\"type\":\"DataRange1d\"},\"x_scale\":{\"id\":\"00476ae7-187f-483f-b196-95364581baa3\",\"type\":\"LinearScale\"},\"y_range\":{\"id\":\"2c66af97-d457-42af-83c8-3b04dc70ff7a\",\"type\":\"DataRange1d\"},\"y_scale\":{\"id\":\"956403be-2d58-418b-92f6-2e612cb01bc4\",\"type\":\"LinearScale\"}},\"id\":\"aa9ef112-b76e-4178-8b15-0794aa09cea3\",\"subtype\":\"Figure\",\"type\":\"Plot\"}],\"root_ids\":[\"aefa24e2-2bfb-44ae-ab74-3baf5f20f4f9\"]},\"title\":\"Bokeh Application\",\"version\":\"0.12.13\"}};\n",
       "  var render_items = [{\"docid\":\"77549cd3-fa22-4a32-bfd3-fcace18e1639\",\"elementid\":\"c3b48b05-57b3-43e5-9f43-00ac1036fd95\",\"modelid\":\"aefa24e2-2bfb-44ae-ab74-3baf5f20f4f9\"}];\n",
       "  root.Bokeh.embed.embed_items_notebook(docs_json, render_items);\n",
       "\n",
       "  }\n",
       "  if (root.Bokeh !== undefined) {\n",
       "    embed_document(root);\n",
       "  } else {\n",
       "    var attempts = 0;\n",
       "    var timer = setInterval(function(root) {\n",
       "      if (root.Bokeh !== undefined) {\n",
       "        embed_document(root);\n",
       "        clearInterval(timer);\n",
       "      }\n",
       "      attempts++;\n",
       "      if (attempts > 100) {\n",
       "        console.log(\"Bokeh: ERROR: Unable to run BokehJS code because BokehJS library is missing\")\n",
       "        clearInterval(timer);\n",
       "      }\n",
       "    }, 10, root)\n",
       "  }\n",
       "})(window);"
      ],
      "application/vnd.bokehjs_exec.v0+json": ""
     },
     "metadata": {
      "application/vnd.bokehjs_exec.v0+json": {
       "id": "aefa24e2-2bfb-44ae-ab74-3baf5f20f4f9"
      }
     },
     "output_type": "display_data"
    }
   ],
   "source": [
    "# put the results in a column and show\n",
    "from bokeh.layouts import column\n",
    "show(column(s1, s2, s3))"
   ]
  },
  {
   "cell_type": "markdown",
   "metadata": {},
   "source": [
    "#### Widgets"
   ]
  },
  {
   "cell_type": "code",
   "execution_count": 4,
   "metadata": {},
   "outputs": [
    {
     "data": {
      "text/html": [
       "\n",
       "<div class=\"bk-root\">\n",
       "    <div class=\"bk-plotdiv\" id=\"c4560f5f-a972-43ab-9129-0ebaa2528f5f\"></div>\n",
       "</div>"
      ]
     },
     "metadata": {},
     "output_type": "display_data"
    },
    {
     "data": {
      "application/javascript": [
       "(function(root) {\n",
       "  function embed_document(root) {\n",
       "    \n",
       "  var docs_json = {\"c790d43f-4157-4c1e-81b1-731d50b4bd67\":{\"roots\":{\"references\":[{\"attributes\":{\"callback\":null,\"icon\":null,\"label\":\"Click Here\"},\"id\":\"7119e1fe-7d53-44de-a33a-080bdb070f44\",\"type\":\"Button\"},{\"attributes\":{\"children\":[{\"id\":\"7119e1fe-7d53-44de-a33a-080bdb070f44\",\"type\":\"Button\"},{\"id\":\"57e3a650-76b6-401d-bfda-5384b053638a\",\"type\":\"RadioButtonGroup\"},{\"id\":\"5a12057d-e0e7-4282-82ff-2f4bf74fe3ca\",\"type\":\"Select\"},{\"id\":\"34ad08f4-d4a6-46e4-b717-f5b7c61bad26\",\"type\":\"Slider\"}],\"width\":300},\"id\":\"288a76ad-4a74-4f44-9fa0-9f87d28de988\",\"type\":\"WidgetBox\"},{\"attributes\":{\"callback\":null,\"end\":10,\"start\":0,\"step\":0.1,\"title\":\"Slider\",\"value\":1},\"id\":\"34ad08f4-d4a6-46e4-b717-f5b7c61bad26\",\"type\":\"Slider\"},{\"attributes\":{\"callback\":null,\"options\":[\"AMZN\",\"GOOG\",\"SPY\",\"FB\"],\"title\":\"Option:\",\"value\":\"foo\"},\"id\":\"5a12057d-e0e7-4282-82ff-2f4bf74fe3ca\",\"type\":\"Select\"},{\"attributes\":{\"active\":0,\"callback\":null,\"labels\":[\"Option 1\",\"Option 2\",\"Option 3\"]},\"id\":\"57e3a650-76b6-401d-bfda-5384b053638a\",\"type\":\"RadioButtonGroup\"}],\"root_ids\":[\"288a76ad-4a74-4f44-9fa0-9f87d28de988\"]},\"title\":\"Bokeh Application\",\"version\":\"0.12.13\"}};\n",
       "  var render_items = [{\"docid\":\"c790d43f-4157-4c1e-81b1-731d50b4bd67\",\"elementid\":\"c4560f5f-a972-43ab-9129-0ebaa2528f5f\",\"modelid\":\"288a76ad-4a74-4f44-9fa0-9f87d28de988\"}];\n",
       "  root.Bokeh.embed.embed_items_notebook(docs_json, render_items);\n",
       "\n",
       "  }\n",
       "  if (root.Bokeh !== undefined) {\n",
       "    embed_document(root);\n",
       "  } else {\n",
       "    var attempts = 0;\n",
       "    var timer = setInterval(function(root) {\n",
       "      if (root.Bokeh !== undefined) {\n",
       "        embed_document(root);\n",
       "        clearInterval(timer);\n",
       "      }\n",
       "      attempts++;\n",
       "      if (attempts > 100) {\n",
       "        console.log(\"Bokeh: ERROR: Unable to run BokehJS code because BokehJS library is missing\")\n",
       "        clearInterval(timer);\n",
       "      }\n",
       "    }, 10, root)\n",
       "  }\n",
       "})(window);"
      ],
      "application/vnd.bokehjs_exec.v0+json": ""
     },
     "metadata": {
      "application/vnd.bokehjs_exec.v0+json": {
       "id": "288a76ad-4a74-4f44-9fa0-9f87d28de988"
      }
     },
     "output_type": "display_data"
    }
   ],
   "source": [
    "from bokeh.io import output_file, show\n",
    "from bokeh.layouts import widgetbox\n",
    "from bokeh.models.widgets import Button, RadioButtonGroup, Select, Slider\n",
    "\n",
    "# create some widgets\n",
    "button_1 = Button(label=\"Click Here\")\n",
    "\n",
    "button_group = RadioButtonGroup(labels=[\"Option 1\", \"Option 2\", \"Option 3\"], active=0)\n",
    "\n",
    "select = Select(title=\"Option:\", value=\"foo\", options=[\"AMZN\", \"GOOG\", \"SPY\", \"FB\"])\n",
    "\n",
    "slider = Slider(start=0, end=10, value=1, step=.1, title=\"Slider\")\n",
    "\n",
    "# put the results in a row\n",
    "show(widgetbox(button_1, button_group, select, slider, width=300))"
   ]
  },
  {
   "cell_type": "markdown",
   "metadata": {},
   "source": [
    "#### Example 1: Stock Returns Interactive Dashboard\n",
    "\n",
    "Note: Start the Bokeh Server Application using \"python -m bokeh serve <FileName>.py\" from Anaconda terminal"
   ]
  },
  {
   "cell_type": "code",
   "execution_count": null,
   "metadata": {
    "collapsed": true
   },
   "outputs": [],
   "source": [
    "from IPython.display import IFrame\n",
    "IFrame('http://localhost:5006/Bokeh_Stocks_Viz', width=900, height=900)"
   ]
  },
  {
   "cell_type": "markdown",
   "metadata": {},
   "source": [
    "#### Example 2: Stock Correlation Interactive Dashboard\n",
    "\n",
    "Note: Start the Bokeh Server Application using \"python -m bokeh serve <FileName>.py\" from Anaconda terminal"
   ]
  },
  {
   "cell_type": "code",
   "execution_count": null,
   "metadata": {
    "collapsed": true
   },
   "outputs": [],
   "source": [
    "from IPython.display import IFrame\n",
    "IFrame('http://localhost:5006/StocksCorrelationHeatmap', width=900, height=900)"
   ]
  }
 ],
 "metadata": {
  "kernelspec": {
   "display_name": "Python 3",
   "language": "python",
   "name": "python3"
  },
  "language_info": {
   "codemirror_mode": {
    "name": "ipython",
    "version": 3
   },
   "file_extension": ".py",
   "mimetype": "text/x-python",
   "name": "python",
   "nbconvert_exporter": "python",
   "pygments_lexer": "ipython3",
   "version": "3.6.4"
  }
 },
 "nbformat": 4,
 "nbformat_minor": 2
}
