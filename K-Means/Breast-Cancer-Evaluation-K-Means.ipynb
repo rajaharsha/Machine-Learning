{
 "cells": [
  {
   "cell_type": "markdown",
   "metadata": {},
   "source": [
    "### Breast-Cancer-Evaluation-K-Means"
   ]
  },
  {
   "cell_type": "code",
   "execution_count": 2,
   "metadata": {},
   "outputs": [],
   "source": [
    "import numpy as np\n",
    "from sklearn.preprocessing import Imputer\n",
    "from sklearn.model_selection import train_test_split\n",
    "from sklearn.neighbors import KNeighborsClassifier\n",
    "from sklearn.metrics import accuracy_score"
   ]
  },
  {
   "cell_type": "code",
   "execution_count": 3,
   "metadata": {
    "collapsed": true
   },
   "outputs": [],
   "source": [
    "cancer_data = np.genfromtxt(\n",
    " fname ='breast-cancer-wisconsin.data', delimiter= ',', dtype= float)"
   ]
  },
  {
   "cell_type": "code",
   "execution_count": 5,
   "metadata": {},
   "outputs": [
    {
     "name": "stdout",
     "output_type": "stream",
     "text": [
      "Dataset Lenght::  699\n",
      "Dataset::  [[  1.00002500e+06   5.00000000e+00   1.00000000e+00 ...,   1.00000000e+00\n",
      "    1.00000000e+00   2.00000000e+00]\n",
      " [  1.00294500e+06   5.00000000e+00   4.00000000e+00 ...,   2.00000000e+00\n",
      "    1.00000000e+00   2.00000000e+00]\n",
      " [  1.01542500e+06   3.00000000e+00   1.00000000e+00 ...,   1.00000000e+00\n",
      "    1.00000000e+00   2.00000000e+00]\n",
      " ..., \n",
      " [  8.88820000e+05   5.00000000e+00   1.00000000e+01 ...,   1.00000000e+01\n",
      "    2.00000000e+00   4.00000000e+00]\n",
      " [  8.97471000e+05   4.00000000e+00   8.00000000e+00 ...,   6.00000000e+00\n",
      "    1.00000000e+00   4.00000000e+00]\n",
      " [  8.97471000e+05   4.00000000e+00   8.00000000e+00 ...,   4.00000000e+00\n",
      "    1.00000000e+00   4.00000000e+00]]\n",
      "Dataset Shape::  (699, 11)\n"
     ]
    }
   ],
   "source": [
    "print (\"Dataset Lenght:: \", len(cancer_data))\n",
    "print (\"Dataset:: \", str(cancer_data))\n",
    "print (\"Dataset Shape:: \", cancer_data.shape)"
   ]
  },
  {
   "cell_type": "code",
   "execution_count": 6,
   "metadata": {
    "collapsed": true
   },
   "outputs": [],
   "source": [
    "cancer_data = np.delete(arr = cancer_data, obj= 0, axis = 1)"
   ]
  },
  {
   "cell_type": "code",
   "execution_count": 7,
   "metadata": {
    "collapsed": true
   },
   "outputs": [],
   "source": [
    "X = cancer_data[:,range(0,9)]\n",
    "Y = cancer_data[:,9]"
   ]
  },
  {
   "cell_type": "code",
   "execution_count": 10,
   "metadata": {},
   "outputs": [],
   "source": [
    "imp = Imputer(missing_values=\"NaN\", strategy='median', axis=0)\n",
    "X = imp.fit_transform(X)"
   ]
  },
  {
   "cell_type": "code",
   "execution_count": 11,
   "metadata": {
    "collapsed": true
   },
   "outputs": [],
   "source": [
    "X_train, X_test, y_train, y_test = train_test_split(\n",
    " X, Y, test_size = 0.3, random_state = 100)\n",
    "y_train = y_train.ravel()\n",
    "y_test = y_test.ravel()"
   ]
  },
  {
   "cell_type": "code",
   "execution_count": 13,
   "metadata": {},
   "outputs": [
    {
     "name": "stdout",
     "output_type": "stream",
     "text": [
      "Accuracy is  95.2380952381 % for K-Value: 1\n",
      "Accuracy is  93.3333333333 % for K-Value: 2\n",
      "Accuracy is  95.7142857143 % for K-Value: 3\n",
      "Accuracy is  95.2380952381 % for K-Value: 4\n",
      "Accuracy is  95.7142857143 % for K-Value: 5\n",
      "Accuracy is  94.7619047619 % for K-Value: 6\n",
      "Accuracy is  94.7619047619 % for K-Value: 7\n",
      "Accuracy is  94.2857142857 % for K-Value: 8\n",
      "Accuracy is  94.7619047619 % for K-Value: 9\n",
      "Accuracy is  94.2857142857 % for K-Value: 10\n",
      "Accuracy is  94.2857142857 % for K-Value: 11\n",
      "Accuracy is  94.7619047619 % for K-Value: 12\n",
      "Accuracy is  94.7619047619 % for K-Value: 13\n",
      "Accuracy is  93.8095238095 % for K-Value: 14\n",
      "Accuracy is  93.8095238095 % for K-Value: 15\n",
      "Accuracy is  93.8095238095 % for K-Value: 16\n",
      "Accuracy is  93.8095238095 % for K-Value: 17\n",
      "Accuracy is  93.8095238095 % for K-Value: 18\n",
      "Accuracy is  93.8095238095 % for K-Value: 19\n",
      "Accuracy is  93.8095238095 % for K-Value: 20\n",
      "Accuracy is  93.8095238095 % for K-Value: 21\n",
      "Accuracy is  93.8095238095 % for K-Value: 22\n",
      "Accuracy is  93.8095238095 % for K-Value: 23\n",
      "Accuracy is  93.8095238095 % for K-Value: 24\n",
      "Accuracy is  93.8095238095 % for K-Value: 25\n"
     ]
    }
   ],
   "source": [
    "for K in range(25):\n",
    " K_value = K+1\n",
    " neigh = KNeighborsClassifier(n_neighbors = K_value, weights='uniform', algorithm='auto')\n",
    " neigh.fit(X_train, y_train) \n",
    " y_pred = neigh.predict(X_test)\n",
    " print (\"Accuracy is \", accuracy_score(y_test,y_pred)*100,\"% for K-Value:\",K_value)"
   ]
  },
  {
   "cell_type": "markdown",
   "metadata": {},
   "source": [
    "http://dataaspirant.com/2016/12/30/k-nearest-neighbor-implementation-scikit-learn/\n",
    "\n",
    "    "
   ]
  },
  {
   "cell_type": "code",
   "execution_count": null,
   "metadata": {
    "collapsed": true
   },
   "outputs": [],
   "source": []
  }
 ],
 "metadata": {
  "kernelspec": {
   "display_name": "Python 3",
   "language": "python",
   "name": "python3"
  },
  "language_info": {
   "codemirror_mode": {
    "name": "ipython",
    "version": 3
   },
   "file_extension": ".py",
   "mimetype": "text/x-python",
   "name": "python",
   "nbconvert_exporter": "python",
   "pygments_lexer": "ipython3",
   "version": "3.6.2"
  }
 },
 "nbformat": 4,
 "nbformat_minor": 2
}
